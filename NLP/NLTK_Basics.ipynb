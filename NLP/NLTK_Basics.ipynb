{
  "nbformat": 4,
  "nbformat_minor": 0,
  "metadata": {
    "colab": {
      "name": "NLTK_Basics.ipynb",
      "provenance": [],
      "authorship_tag": "ABX9TyN7YqBVxCW6SmJYRT9ItMY6",
      "include_colab_link": true
    },
    "kernelspec": {
      "name": "python3",
      "display_name": "Python 3"
    }
  },
  "cells": [
    {
      "cell_type": "markdown",
      "metadata": {
        "id": "view-in-github",
        "colab_type": "text"
      },
      "source": [
        "<a href=\"https://colab.research.google.com/github/santosh2994/AAIC/blob/master/NLP/NLTK_Basics.ipynb\" target=\"_parent\"><img src=\"https://colab.research.google.com/assets/colab-badge.svg\" alt=\"Open In Colab\"/></a>"
      ]
    },
    {
      "cell_type": "code",
      "metadata": {
        "id": "1N0EUxwf_uFk"
      },
      "source": [
        "from nltk.tokenize import word_tokenize"
      ],
      "execution_count": 1,
      "outputs": []
    },
    {
      "cell_type": "code",
      "metadata": {
        "colab": {
          "base_uri": "https://localhost:8080/"
        },
        "id": "2juTX_BRBBZj",
        "outputId": "07a5cfc6-5de6-4837-c9f0-195d45385473"
      },
      "source": [
        "import nltk\n",
        "nltk.download('punkt')"
      ],
      "execution_count": 3,
      "outputs": [
        {
          "output_type": "stream",
          "text": [
            "[nltk_data] Downloading package punkt to /root/nltk_data...\n",
            "[nltk_data]   Unzipping tokenizers/punkt.zip.\n"
          ],
          "name": "stdout"
        },
        {
          "output_type": "execute_result",
          "data": {
            "text/plain": [
              "True"
            ]
          },
          "metadata": {
            "tags": []
          },
          "execution_count": 3
        }
      ]
    },
    {
      "cell_type": "code",
      "metadata": {
        "colab": {
          "base_uri": "https://localhost:8080/"
        },
        "id": "w1Z48gH9A4P1",
        "outputId": "dbe9bc55-3841-40dd-baaa-8c7f6e5e0cc7"
      },
      "source": [
        "#word_tokenize is similar to the python split funciton but a bit more informative\n",
        "# WORD TOKENIZER\n",
        "word_tokenize(\"Hey santosh this is uma from hyderabad\")"
      ],
      "execution_count": 6,
      "outputs": [
        {
          "output_type": "execute_result",
          "data": {
            "text/plain": [
              "['Hey', 'santosh', 'this', 'is', 'uma', 'from', 'hyderabad']"
            ]
          },
          "metadata": {
            "tags": []
          },
          "execution_count": 6
        }
      ]
    },
    {
      "cell_type": "code",
      "metadata": {
        "colab": {
          "base_uri": "https://localhost:8080/"
        },
        "id": "UG_pSh3LA9y0",
        "outputId": "67343944-1e6b-45db-c729-bc81c8a851ef"
      },
      "source": [
        "# SENTENCE TOKENIZER\n",
        "from nltk.tokenize import sent_tokenize\n",
        "sent_tokenize(\"\"\"Hello Santosh, \n",
        "Welcome to the future.\n",
        "Thanks \n",
        "A.I\n",
        "\"\"\")"
      ],
      "execution_count": 8,
      "outputs": [
        {
          "output_type": "execute_result",
          "data": {
            "text/plain": [
              "['Hello Santosh, \\nWelcome to the future.', 'Thanks \\nA.I']"
            ]
          },
          "metadata": {
            "tags": []
          },
          "execution_count": 8
        }
      ]
    },
    {
      "cell_type": "code",
      "metadata": {
        "id": "6n_O-O8KB3wk"
      },
      "source": [
        ""
      ],
      "execution_count": null,
      "outputs": []
    }
  ]
}