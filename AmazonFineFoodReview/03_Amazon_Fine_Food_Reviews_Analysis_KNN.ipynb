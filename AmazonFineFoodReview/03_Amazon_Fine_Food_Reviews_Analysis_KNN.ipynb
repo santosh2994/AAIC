{
  "nbformat": 4,
  "nbformat_minor": 0,
  "metadata": {
    "colab": {
      "name": "03 Amazon Fine Food Reviews Analysis_KNN.ipynb",
      "version": "0.3.2",
      "provenance": [],
      "collapsed_sections": [],
      "include_colab_link": true
    },
    "language_info": {
      "codemirror_mode": {
        "name": "ipython",
        "version": 3
      },
      "file_extension": ".py",
      "mimetype": "text/x-python",
      "name": "python",
      "nbconvert_exporter": "python",
      "pygments_lexer": "ipython3",
      "version": "3.6.7"
    },
    "kernelspec": {
      "name": "python3",
      "display_name": "Python 3"
    },
    "accelerator": "GPU"
  },
  "cells": [
    {
      "cell_type": "markdown",
      "metadata": {
        "id": "view-in-github",
        "colab_type": "text"
      },
      "source": [
        "<a href=\"https://colab.research.google.com/github/santosh2994/AAIC/blob/master/AmazonFineFoodReview/03_Amazon_Fine_Food_Reviews_Analysis_KNN.ipynb\" target=\"_parent\"><img src=\"https://colab.research.google.com/assets/colab-badge.svg\" alt=\"Open In Colab\"/></a>"
      ]
    },
    {
      "cell_type": "markdown",
      "metadata": {
        "id": "HuMZy3JOWsrX",
        "colab_type": "text"
      },
      "source": [
        "# [1]. Reading Data"
      ]
    },
    {
      "cell_type": "markdown",
      "metadata": {
        "id": "9POlPeLlWsrY",
        "colab_type": "text"
      },
      "source": [
        "## [1.1] Loading the data\n",
        "\n",
        "The dataset is available in two forms\n",
        "1. .csv file\n",
        "2. SQLite Database\n",
        "\n",
        "In order to load the data, We have used the SQLITE dataset as it is easier to query the data and visualise the data efficiently.\n",
        "<br> \n",
        "\n",
        "Here as we only want to get the global sentiment of the recommendations (positive or negative), we will purposefully ignore all Scores equal to 3. If the score is above 3, then the recommendation wil be set to \"positive\". Otherwise, it will be set to \"negative\"."
      ]
    },
    {
      "cell_type": "code",
      "metadata": {
        "id": "2fuGCDM0tXK0",
        "colab_type": "code",
        "outputId": "b4108d30-dba2-4aa3-f7f7-9e28901c2eb5",
        "colab": {
          "base_uri": "https://localhost:8080/",
          "height": 33
        }
      },
      "source": [
        "#This is used to mount the drive and we can use the data from tha drive\n",
        "from google.colab import drive\n",
        "drive.mount('/content/drive')"
      ],
      "execution_count": 0,
      "outputs": [
        {
          "output_type": "stream",
          "text": [
            "Drive already mounted at /content/drive; to attempt to forcibly remount, call drive.mount(\"/content/drive\", force_remount=True).\n"
          ],
          "name": "stdout"
        }
      ]
    },
    {
      "cell_type": "code",
      "metadata": {
        "id": "xDPp1NBZWsrY",
        "colab_type": "code",
        "colab": {}
      },
      "source": [
        "%matplotlib inline\n",
        "import warnings\n",
        "warnings.filterwarnings(\"ignore\")\n",
        "\n",
        "import sqlite3\n",
        "import pandas as pd\n",
        "import numpy as np\n",
        "import nltk\n",
        "import string\n",
        "import matplotlib.pyplot as plt\n",
        "import seaborn as sns\n",
        "from sklearn.feature_extraction.text import TfidfTransformer\n",
        "from sklearn.feature_extraction.text import TfidfVectorizer\n",
        "\n",
        "from sklearn.feature_extraction.text import CountVectorizer\n",
        "from sklearn.metrics import confusion_matrix\n",
        "from sklearn import metrics\n",
        "from sklearn.metrics import roc_curve, auc\n",
        "from nltk.stem.porter import PorterStemmer\n",
        "\n",
        "import re\n",
        "# Tutorial about Python regular expressions: https://pymotw.com/2/re/\n",
        "import string\n",
        "from nltk.corpus import stopwords\n",
        "from nltk.stem import PorterStemmer\n",
        "from nltk.stem.wordnet import WordNetLemmatizer\n",
        "\n",
        "from gensim.models import Word2Vec\n",
        "from gensim.models import KeyedVectors\n",
        "import pickle\n",
        "from sklearn.model_selection import train_test_split\n",
        "\n",
        "#tqdm tells the progress of the query that we are processing\n",
        "from tqdm import tqdm\n",
        "import os\n",
        "\n",
        "from sklearn.metrics import roc_auc_score\n",
        "from sklearn.neighbors import KNeighborsClassifier\n",
        "from sklearn.model_selection import GridSearchCV\n",
        "from sklearn.feature_extraction.text import CountVectorizer\n",
        "import matplotlib.pyplot as plt"
      ],
      "execution_count": 0,
      "outputs": []
    },
    {
      "cell_type": "code",
      "metadata": {
        "id": "wek6igqaWsrb",
        "colab_type": "code",
        "outputId": "fd1fa061-f13f-4e9a-85f3-240309c78ae6",
        "colab": {
          "base_uri": "https://localhost:8080/",
          "height": 204
        }
      },
      "source": [
        "# using SQLite Table to read data.\n",
        "#content/drive\n",
        "con = sqlite3.connect('/content/drive/My Drive/data/amazon-fine-food-reviews/database.sqlite') \n",
        "\n",
        "# filtering only positive and negative reviews i.e. \n",
        "# not taking into consideration those reviews with Score=3\n",
        "# SELECT * FROM Reviews WHERE Score != 3 LIMIT 500000, will give top 500000 data points\n",
        "# you can change the number to any other number based on your computing power\n",
        "\n",
        "# filtered_data = pd.read_sql_query(\"\"\" SELECT * FROM Reviews WHERE Score != 3 LIMIT 500000\"\"\", con) \n",
        "# for tsne assignment you can take 5k data points\n",
        "\n",
        "filtered_data = pd.read_sql_query(\"\"\" SELECT * FROM Reviews WHERE Score != 3 limit 10000\"\"\", con) \n",
        "\n",
        "# Give reviews with Score>3 a positive rating(1), and reviews with a score<3 a negative rating(0).\n",
        "def partition(x):\n",
        "    if x < 3:\n",
        "        return 0\n",
        "    return 1\n",
        "\n",
        "#changing reviews with score less than 3 to be positive and vice-versa\n",
        "actualScore = filtered_data['Score']\n",
        "positiveNegative = actualScore.map(partition) \n",
        "filtered_data['Score'] = positiveNegative\n",
        "print(\"Number of data points in our data\", filtered_data.shape)\n",
        "filtered_data.head(3)"
      ],
      "execution_count": 0,
      "outputs": [
        {
          "output_type": "stream",
          "text": [
            "Number of data points in our data (10000, 10)\n"
          ],
          "name": "stdout"
        },
        {
          "output_type": "execute_result",
          "data": {
            "text/html": [
              "<div>\n",
              "<style scoped>\n",
              "    .dataframe tbody tr th:only-of-type {\n",
              "        vertical-align: middle;\n",
              "    }\n",
              "\n",
              "    .dataframe tbody tr th {\n",
              "        vertical-align: top;\n",
              "    }\n",
              "\n",
              "    .dataframe thead th {\n",
              "        text-align: right;\n",
              "    }\n",
              "</style>\n",
              "<table border=\"1\" class=\"dataframe\">\n",
              "  <thead>\n",
              "    <tr style=\"text-align: right;\">\n",
              "      <th></th>\n",
              "      <th>Id</th>\n",
              "      <th>ProductId</th>\n",
              "      <th>UserId</th>\n",
              "      <th>ProfileName</th>\n",
              "      <th>HelpfulnessNumerator</th>\n",
              "      <th>HelpfulnessDenominator</th>\n",
              "      <th>Score</th>\n",
              "      <th>Time</th>\n",
              "      <th>Summary</th>\n",
              "      <th>Text</th>\n",
              "    </tr>\n",
              "  </thead>\n",
              "  <tbody>\n",
              "    <tr>\n",
              "      <th>0</th>\n",
              "      <td>1</td>\n",
              "      <td>B001E4KFG0</td>\n",
              "      <td>A3SGXH7AUHU8GW</td>\n",
              "      <td>delmartian</td>\n",
              "      <td>1</td>\n",
              "      <td>1</td>\n",
              "      <td>1</td>\n",
              "      <td>1303862400</td>\n",
              "      <td>Good Quality Dog Food</td>\n",
              "      <td>I have bought several of the Vitality canned d...</td>\n",
              "    </tr>\n",
              "    <tr>\n",
              "      <th>1</th>\n",
              "      <td>2</td>\n",
              "      <td>B00813GRG4</td>\n",
              "      <td>A1D87F6ZCVE5NK</td>\n",
              "      <td>dll pa</td>\n",
              "      <td>0</td>\n",
              "      <td>0</td>\n",
              "      <td>0</td>\n",
              "      <td>1346976000</td>\n",
              "      <td>Not as Advertised</td>\n",
              "      <td>Product arrived labeled as Jumbo Salted Peanut...</td>\n",
              "    </tr>\n",
              "    <tr>\n",
              "      <th>2</th>\n",
              "      <td>3</td>\n",
              "      <td>B000LQOCH0</td>\n",
              "      <td>ABXLMWJIXXAIN</td>\n",
              "      <td>Natalia Corres \"Natalia Corres\"</td>\n",
              "      <td>1</td>\n",
              "      <td>1</td>\n",
              "      <td>1</td>\n",
              "      <td>1219017600</td>\n",
              "      <td>\"Delight\" says it all</td>\n",
              "      <td>This is a confection that has been around a fe...</td>\n",
              "    </tr>\n",
              "  </tbody>\n",
              "</table>\n",
              "</div>"
            ],
            "text/plain": [
              "   Id  ...                                               Text\n",
              "0   1  ...  I have bought several of the Vitality canned d...\n",
              "1   2  ...  Product arrived labeled as Jumbo Salted Peanut...\n",
              "2   3  ...  This is a confection that has been around a fe...\n",
              "\n",
              "[3 rows x 10 columns]"
            ]
          },
          "metadata": {
            "tags": []
          },
          "execution_count": 3
        }
      ]
    },
    {
      "cell_type": "code",
      "metadata": {
        "id": "gShi27wnWsrg",
        "colab_type": "code",
        "colab": {}
      },
      "source": [
        "display = pd.read_sql_query(\"\"\"\n",
        "SELECT UserId, ProductId, ProfileName, Time, Score, Text, COUNT(*)\n",
        "FROM Reviews\n",
        "GROUP BY UserId\n",
        "HAVING COUNT(*)>1\n",
        "\"\"\", con)"
      ],
      "execution_count": 0,
      "outputs": []
    },
    {
      "cell_type": "code",
      "metadata": {
        "scrolled": true,
        "id": "W6DjYLcSWsri",
        "colab_type": "code",
        "outputId": "e3ba7897-5d2e-4f1a-a130-bf8850dabd49",
        "colab": {
          "base_uri": "https://localhost:8080/",
          "height": 213
        }
      },
      "source": [
        "print(display.shape)\n",
        "display.head()"
      ],
      "execution_count": 0,
      "outputs": [
        {
          "output_type": "stream",
          "text": [
            "(80668, 7)\n"
          ],
          "name": "stdout"
        },
        {
          "output_type": "execute_result",
          "data": {
            "text/html": [
              "<div>\n",
              "<style scoped>\n",
              "    .dataframe tbody tr th:only-of-type {\n",
              "        vertical-align: middle;\n",
              "    }\n",
              "\n",
              "    .dataframe tbody tr th {\n",
              "        vertical-align: top;\n",
              "    }\n",
              "\n",
              "    .dataframe thead th {\n",
              "        text-align: right;\n",
              "    }\n",
              "</style>\n",
              "<table border=\"1\" class=\"dataframe\">\n",
              "  <thead>\n",
              "    <tr style=\"text-align: right;\">\n",
              "      <th></th>\n",
              "      <th>UserId</th>\n",
              "      <th>ProductId</th>\n",
              "      <th>ProfileName</th>\n",
              "      <th>Time</th>\n",
              "      <th>Score</th>\n",
              "      <th>Text</th>\n",
              "      <th>COUNT(*)</th>\n",
              "    </tr>\n",
              "  </thead>\n",
              "  <tbody>\n",
              "    <tr>\n",
              "      <th>0</th>\n",
              "      <td>#oc-R115TNMSPFT9I7</td>\n",
              "      <td>B007Y59HVM</td>\n",
              "      <td>Breyton</td>\n",
              "      <td>1331510400</td>\n",
              "      <td>2</td>\n",
              "      <td>Overall its just OK when considering the price...</td>\n",
              "      <td>2</td>\n",
              "    </tr>\n",
              "    <tr>\n",
              "      <th>1</th>\n",
              "      <td>#oc-R11D9D7SHXIJB9</td>\n",
              "      <td>B005HG9ET0</td>\n",
              "      <td>Louis E. Emory \"hoppy\"</td>\n",
              "      <td>1342396800</td>\n",
              "      <td>5</td>\n",
              "      <td>My wife has recurring extreme muscle spasms, u...</td>\n",
              "      <td>3</td>\n",
              "    </tr>\n",
              "    <tr>\n",
              "      <th>2</th>\n",
              "      <td>#oc-R11DNU2NBKQ23Z</td>\n",
              "      <td>B007Y59HVM</td>\n",
              "      <td>Kim Cieszykowski</td>\n",
              "      <td>1348531200</td>\n",
              "      <td>1</td>\n",
              "      <td>This coffee is horrible and unfortunately not ...</td>\n",
              "      <td>2</td>\n",
              "    </tr>\n",
              "    <tr>\n",
              "      <th>3</th>\n",
              "      <td>#oc-R11O5J5ZVQE25C</td>\n",
              "      <td>B005HG9ET0</td>\n",
              "      <td>Penguin Chick</td>\n",
              "      <td>1346889600</td>\n",
              "      <td>5</td>\n",
              "      <td>This will be the bottle that you grab from the...</td>\n",
              "      <td>3</td>\n",
              "    </tr>\n",
              "    <tr>\n",
              "      <th>4</th>\n",
              "      <td>#oc-R12KPBODL2B5ZD</td>\n",
              "      <td>B007OSBE1U</td>\n",
              "      <td>Christopher P. Presta</td>\n",
              "      <td>1348617600</td>\n",
              "      <td>1</td>\n",
              "      <td>I didnt like this coffee. Instead of telling y...</td>\n",
              "      <td>2</td>\n",
              "    </tr>\n",
              "  </tbody>\n",
              "</table>\n",
              "</div>"
            ],
            "text/plain": [
              "               UserId  ... COUNT(*)\n",
              "0  #oc-R115TNMSPFT9I7  ...        2\n",
              "1  #oc-R11D9D7SHXIJB9  ...        3\n",
              "2  #oc-R11DNU2NBKQ23Z  ...        2\n",
              "3  #oc-R11O5J5ZVQE25C  ...        3\n",
              "4  #oc-R12KPBODL2B5ZD  ...        2\n",
              "\n",
              "[5 rows x 7 columns]"
            ]
          },
          "metadata": {
            "tags": []
          },
          "execution_count": 5
        }
      ]
    },
    {
      "cell_type": "code",
      "metadata": {
        "id": "XS5Kos6nWsrm",
        "colab_type": "code",
        "outputId": "f2d4d85c-0ffc-4f50-d2a1-b1e4de7b6a04",
        "colab": {
          "base_uri": "https://localhost:8080/",
          "height": 77
        }
      },
      "source": [
        "display[display['UserId']=='AZY10LLTJ71NX']"
      ],
      "execution_count": 0,
      "outputs": [
        {
          "output_type": "execute_result",
          "data": {
            "text/html": [
              "<div>\n",
              "<style scoped>\n",
              "    .dataframe tbody tr th:only-of-type {\n",
              "        vertical-align: middle;\n",
              "    }\n",
              "\n",
              "    .dataframe tbody tr th {\n",
              "        vertical-align: top;\n",
              "    }\n",
              "\n",
              "    .dataframe thead th {\n",
              "        text-align: right;\n",
              "    }\n",
              "</style>\n",
              "<table border=\"1\" class=\"dataframe\">\n",
              "  <thead>\n",
              "    <tr style=\"text-align: right;\">\n",
              "      <th></th>\n",
              "      <th>UserId</th>\n",
              "      <th>ProductId</th>\n",
              "      <th>ProfileName</th>\n",
              "      <th>Time</th>\n",
              "      <th>Score</th>\n",
              "      <th>Text</th>\n",
              "      <th>COUNT(*)</th>\n",
              "    </tr>\n",
              "  </thead>\n",
              "  <tbody>\n",
              "    <tr>\n",
              "      <th>80638</th>\n",
              "      <td>AZY10LLTJ71NX</td>\n",
              "      <td>B006P7E5ZI</td>\n",
              "      <td>undertheshrine \"undertheshrine\"</td>\n",
              "      <td>1334707200</td>\n",
              "      <td>5</td>\n",
              "      <td>I was recommended to try green tea extract to ...</td>\n",
              "      <td>5</td>\n",
              "    </tr>\n",
              "  </tbody>\n",
              "</table>\n",
              "</div>"
            ],
            "text/plain": [
              "              UserId  ... COUNT(*)\n",
              "80638  AZY10LLTJ71NX  ...        5\n",
              "\n",
              "[1 rows x 7 columns]"
            ]
          },
          "metadata": {
            "tags": []
          },
          "execution_count": 6
        }
      ]
    },
    {
      "cell_type": "code",
      "metadata": {
        "id": "4fjoPyGVWsrp",
        "colab_type": "code",
        "outputId": "147359a2-8325-4532-bd95-11a09508c8c1",
        "colab": {
          "base_uri": "https://localhost:8080/",
          "height": 33
        }
      },
      "source": [
        "display['COUNT(*)'].sum()"
      ],
      "execution_count": 0,
      "outputs": [
        {
          "output_type": "execute_result",
          "data": {
            "text/plain": [
              "393063"
            ]
          },
          "metadata": {
            "tags": []
          },
          "execution_count": 7
        }
      ]
    },
    {
      "cell_type": "markdown",
      "metadata": {
        "id": "btZYZ7xfWsrt",
        "colab_type": "text"
      },
      "source": [
        "#  [2] Exploratory Data Analysis"
      ]
    },
    {
      "cell_type": "markdown",
      "metadata": {
        "id": "1LdNbv0qWsrt",
        "colab_type": "text"
      },
      "source": [
        "## [2.1] Data Cleaning: Deduplication\n",
        "\n",
        "It is observed (as shown in the table below) that the reviews data had many duplicate entries. Hence it was necessary to remove duplicates in order to get unbiased results for the analysis of the data.  Following is an example:"
      ]
    },
    {
      "cell_type": "code",
      "metadata": {
        "scrolled": false,
        "id": "pftblJzTWsru",
        "colab_type": "code",
        "outputId": "76942adc-cddf-4e4d-e7cd-d2fc3e4afc66",
        "colab": {
          "base_uri": "https://localhost:8080/",
          "height": 364
        }
      },
      "source": [
        "display= pd.read_sql_query(\"\"\"\n",
        "SELECT *\n",
        "FROM Reviews\n",
        "WHERE Score != 3 AND UserId=\"AR5J8UI46CURR\"\n",
        "ORDER BY ProductID\n",
        "\"\"\", con)\n",
        "display.head()"
      ],
      "execution_count": 0,
      "outputs": [
        {
          "output_type": "execute_result",
          "data": {
            "text/html": [
              "<div>\n",
              "<style scoped>\n",
              "    .dataframe tbody tr th:only-of-type {\n",
              "        vertical-align: middle;\n",
              "    }\n",
              "\n",
              "    .dataframe tbody tr th {\n",
              "        vertical-align: top;\n",
              "    }\n",
              "\n",
              "    .dataframe thead th {\n",
              "        text-align: right;\n",
              "    }\n",
              "</style>\n",
              "<table border=\"1\" class=\"dataframe\">\n",
              "  <thead>\n",
              "    <tr style=\"text-align: right;\">\n",
              "      <th></th>\n",
              "      <th>Id</th>\n",
              "      <th>ProductId</th>\n",
              "      <th>UserId</th>\n",
              "      <th>ProfileName</th>\n",
              "      <th>HelpfulnessNumerator</th>\n",
              "      <th>HelpfulnessDenominator</th>\n",
              "      <th>Score</th>\n",
              "      <th>Time</th>\n",
              "      <th>Summary</th>\n",
              "      <th>Text</th>\n",
              "    </tr>\n",
              "  </thead>\n",
              "  <tbody>\n",
              "    <tr>\n",
              "      <th>0</th>\n",
              "      <td>78445</td>\n",
              "      <td>B000HDL1RQ</td>\n",
              "      <td>AR5J8UI46CURR</td>\n",
              "      <td>Geetha Krishnan</td>\n",
              "      <td>2</td>\n",
              "      <td>2</td>\n",
              "      <td>5</td>\n",
              "      <td>1199577600</td>\n",
              "      <td>LOACKER QUADRATINI VANILLA WAFERS</td>\n",
              "      <td>DELICIOUS WAFERS. I FIND THAT EUROPEAN WAFERS ...</td>\n",
              "    </tr>\n",
              "    <tr>\n",
              "      <th>1</th>\n",
              "      <td>138317</td>\n",
              "      <td>B000HDOPYC</td>\n",
              "      <td>AR5J8UI46CURR</td>\n",
              "      <td>Geetha Krishnan</td>\n",
              "      <td>2</td>\n",
              "      <td>2</td>\n",
              "      <td>5</td>\n",
              "      <td>1199577600</td>\n",
              "      <td>LOACKER QUADRATINI VANILLA WAFERS</td>\n",
              "      <td>DELICIOUS WAFERS. I FIND THAT EUROPEAN WAFERS ...</td>\n",
              "    </tr>\n",
              "    <tr>\n",
              "      <th>2</th>\n",
              "      <td>138277</td>\n",
              "      <td>B000HDOPYM</td>\n",
              "      <td>AR5J8UI46CURR</td>\n",
              "      <td>Geetha Krishnan</td>\n",
              "      <td>2</td>\n",
              "      <td>2</td>\n",
              "      <td>5</td>\n",
              "      <td>1199577600</td>\n",
              "      <td>LOACKER QUADRATINI VANILLA WAFERS</td>\n",
              "      <td>DELICIOUS WAFERS. I FIND THAT EUROPEAN WAFERS ...</td>\n",
              "    </tr>\n",
              "    <tr>\n",
              "      <th>3</th>\n",
              "      <td>73791</td>\n",
              "      <td>B000HDOPZG</td>\n",
              "      <td>AR5J8UI46CURR</td>\n",
              "      <td>Geetha Krishnan</td>\n",
              "      <td>2</td>\n",
              "      <td>2</td>\n",
              "      <td>5</td>\n",
              "      <td>1199577600</td>\n",
              "      <td>LOACKER QUADRATINI VANILLA WAFERS</td>\n",
              "      <td>DELICIOUS WAFERS. I FIND THAT EUROPEAN WAFERS ...</td>\n",
              "    </tr>\n",
              "    <tr>\n",
              "      <th>4</th>\n",
              "      <td>155049</td>\n",
              "      <td>B000PAQ75C</td>\n",
              "      <td>AR5J8UI46CURR</td>\n",
              "      <td>Geetha Krishnan</td>\n",
              "      <td>2</td>\n",
              "      <td>2</td>\n",
              "      <td>5</td>\n",
              "      <td>1199577600</td>\n",
              "      <td>LOACKER QUADRATINI VANILLA WAFERS</td>\n",
              "      <td>DELICIOUS WAFERS. I FIND THAT EUROPEAN WAFERS ...</td>\n",
              "    </tr>\n",
              "  </tbody>\n",
              "</table>\n",
              "</div>"
            ],
            "text/plain": [
              "       Id  ...                                               Text\n",
              "0   78445  ...  DELICIOUS WAFERS. I FIND THAT EUROPEAN WAFERS ...\n",
              "1  138317  ...  DELICIOUS WAFERS. I FIND THAT EUROPEAN WAFERS ...\n",
              "2  138277  ...  DELICIOUS WAFERS. I FIND THAT EUROPEAN WAFERS ...\n",
              "3   73791  ...  DELICIOUS WAFERS. I FIND THAT EUROPEAN WAFERS ...\n",
              "4  155049  ...  DELICIOUS WAFERS. I FIND THAT EUROPEAN WAFERS ...\n",
              "\n",
              "[5 rows x 10 columns]"
            ]
          },
          "metadata": {
            "tags": []
          },
          "execution_count": 8
        }
      ]
    },
    {
      "cell_type": "markdown",
      "metadata": {
        "id": "dRNGC02eWsry",
        "colab_type": "text"
      },
      "source": [
        "As it can be seen above that same user has multiple reviews with same values for HelpfulnessNumerator, HelpfulnessDenominator, Score, Time, Summary and Text and on doing analysis it was found that <br>\n",
        "<br> \n",
        "ProductId=B000HDOPZG was Loacker Quadratini Vanilla Wafer Cookies, 8.82-Ounce Packages (Pack of 8)<br>\n",
        "<br> \n",
        "ProductId=B000HDL1RQ was Loacker Quadratini Lemon Wafer Cookies, 8.82-Ounce Packages (Pack of 8) and so on<br>\n",
        "\n",
        "It was inferred after analysis that reviews with same parameters other than ProductId belonged to the same product just having different flavour or quantity. Hence in order to reduce redundancy it was decided to eliminate the rows having same parameters.<br>\n",
        "\n",
        "The method used for the same was that we first sort the data according to ProductId and then just keep the first similar product review and delelte the others. for eg. in the above just the review for ProductId=B000HDL1RQ remains. This method ensures that there is only one representative for each product and deduplication without sorting would lead to possibility of different representatives still existing for the same product."
      ]
    },
    {
      "cell_type": "code",
      "metadata": {
        "id": "Z_-gKHXlWsrz",
        "colab_type": "code",
        "colab": {}
      },
      "source": [
        "#Sorting data according to ProductId in ascending order\n",
        "sorted_data=filtered_data.sort_values('ProductId', axis=0, ascending=True, inplace=False, kind='quicksort', na_position='last')"
      ],
      "execution_count": 0,
      "outputs": []
    },
    {
      "cell_type": "code",
      "metadata": {
        "id": "kYFsxQFyWsr2",
        "colab_type": "code",
        "outputId": "8b2e6b83-4b20-487f-e77c-aebc34857696",
        "colab": {
          "base_uri": "https://localhost:8080/",
          "height": 33
        }
      },
      "source": [
        "#Deduplication of entries\n",
        "final=sorted_data.drop_duplicates(subset={\"UserId\",\"ProfileName\",\"Time\",\"Text\"}, keep='first', inplace=False)\n",
        "final.shape"
      ],
      "execution_count": 0,
      "outputs": [
        {
          "output_type": "execute_result",
          "data": {
            "text/plain": [
              "(9564, 10)"
            ]
          },
          "metadata": {
            "tags": []
          },
          "execution_count": 10
        }
      ]
    },
    {
      "cell_type": "code",
      "metadata": {
        "id": "L3BpLA6ZWsr5",
        "colab_type": "code",
        "outputId": "e3fc712e-56eb-4287-ad65-5a01eb865327",
        "colab": {
          "base_uri": "https://localhost:8080/",
          "height": 33
        }
      },
      "source": [
        "#Checking to see how much % of data still remains\n",
        "(final['Id'].size*1.0)/(filtered_data['Id'].size*1.0)*100"
      ],
      "execution_count": 0,
      "outputs": [
        {
          "output_type": "execute_result",
          "data": {
            "text/plain": [
              "95.64"
            ]
          },
          "metadata": {
            "tags": []
          },
          "execution_count": 11
        }
      ]
    },
    {
      "cell_type": "markdown",
      "metadata": {
        "id": "xsy3h7kBWsr8",
        "colab_type": "text"
      },
      "source": [
        "<b>Observation:-</b> It was also seen that in two rows given below the value of HelpfulnessNumerator is greater than HelpfulnessDenominator which is not practically possible hence these two rows too are removed from calcualtions"
      ]
    },
    {
      "cell_type": "code",
      "metadata": {
        "id": "893eV43vWsr9",
        "colab_type": "code",
        "outputId": "1c01cf33-7eda-44a3-afb3-9d177a3cf189",
        "colab": {
          "base_uri": "https://localhost:8080/",
          "height": 140
        }
      },
      "source": [
        "display= pd.read_sql_query(\"\"\"\n",
        "SELECT *\n",
        "FROM Reviews\n",
        "WHERE Score != 3 AND Id=44737 OR Id=64422\n",
        "ORDER BY ProductID\n",
        "\"\"\", con)\n",
        "\n",
        "display.head()"
      ],
      "execution_count": 0,
      "outputs": [
        {
          "output_type": "execute_result",
          "data": {
            "text/html": [
              "<div>\n",
              "<style scoped>\n",
              "    .dataframe tbody tr th:only-of-type {\n",
              "        vertical-align: middle;\n",
              "    }\n",
              "\n",
              "    .dataframe tbody tr th {\n",
              "        vertical-align: top;\n",
              "    }\n",
              "\n",
              "    .dataframe thead th {\n",
              "        text-align: right;\n",
              "    }\n",
              "</style>\n",
              "<table border=\"1\" class=\"dataframe\">\n",
              "  <thead>\n",
              "    <tr style=\"text-align: right;\">\n",
              "      <th></th>\n",
              "      <th>Id</th>\n",
              "      <th>ProductId</th>\n",
              "      <th>UserId</th>\n",
              "      <th>ProfileName</th>\n",
              "      <th>HelpfulnessNumerator</th>\n",
              "      <th>HelpfulnessDenominator</th>\n",
              "      <th>Score</th>\n",
              "      <th>Time</th>\n",
              "      <th>Summary</th>\n",
              "      <th>Text</th>\n",
              "    </tr>\n",
              "  </thead>\n",
              "  <tbody>\n",
              "    <tr>\n",
              "      <th>0</th>\n",
              "      <td>64422</td>\n",
              "      <td>B000MIDROQ</td>\n",
              "      <td>A161DK06JJMCYF</td>\n",
              "      <td>J. E. Stephens \"Jeanne\"</td>\n",
              "      <td>3</td>\n",
              "      <td>1</td>\n",
              "      <td>5</td>\n",
              "      <td>1224892800</td>\n",
              "      <td>Bought This for My Son at College</td>\n",
              "      <td>My son loves spaghetti so I didn't hesitate or...</td>\n",
              "    </tr>\n",
              "    <tr>\n",
              "      <th>1</th>\n",
              "      <td>44737</td>\n",
              "      <td>B001EQ55RW</td>\n",
              "      <td>A2V0I904FH7ABY</td>\n",
              "      <td>Ram</td>\n",
              "      <td>3</td>\n",
              "      <td>2</td>\n",
              "      <td>4</td>\n",
              "      <td>1212883200</td>\n",
              "      <td>Pure cocoa taste with crunchy almonds inside</td>\n",
              "      <td>It was almost a 'love at first bite' - the per...</td>\n",
              "    </tr>\n",
              "  </tbody>\n",
              "</table>\n",
              "</div>"
            ],
            "text/plain": [
              "      Id  ...                                               Text\n",
              "0  64422  ...  My son loves spaghetti so I didn't hesitate or...\n",
              "1  44737  ...  It was almost a 'love at first bite' - the per...\n",
              "\n",
              "[2 rows x 10 columns]"
            ]
          },
          "metadata": {
            "tags": []
          },
          "execution_count": 12
        }
      ]
    },
    {
      "cell_type": "code",
      "metadata": {
        "id": "vtAXHBeJWssA",
        "colab_type": "code",
        "colab": {}
      },
      "source": [
        "final=final[final.HelpfulnessNumerator<=final.HelpfulnessDenominator]"
      ],
      "execution_count": 0,
      "outputs": []
    },
    {
      "cell_type": "code",
      "metadata": {
        "id": "yr71lW5DWssD",
        "colab_type": "code",
        "outputId": "e52c7cf9-cb8f-4747-d617-d732cb0b10ae",
        "colab": {
          "base_uri": "https://localhost:8080/",
          "height": 84
        }
      },
      "source": [
        "#Before starting the next phase of preprocessing lets see the number of entries left\n",
        "print(final.shape)\n",
        "\n",
        "#How many positive and negative reviews are present in our dataset?\n",
        "final['Score'].value_counts()"
      ],
      "execution_count": 0,
      "outputs": [
        {
          "output_type": "stream",
          "text": [
            "(9564, 10)\n"
          ],
          "name": "stdout"
        },
        {
          "output_type": "execute_result",
          "data": {
            "text/plain": [
              "1    7976\n",
              "0    1588\n",
              "Name: Score, dtype: int64"
            ]
          },
          "metadata": {
            "tags": []
          },
          "execution_count": 14
        }
      ]
    },
    {
      "cell_type": "markdown",
      "metadata": {
        "id": "P_Q-wohAWssI",
        "colab_type": "text"
      },
      "source": [
        "#  [3] Preprocessing"
      ]
    },
    {
      "cell_type": "markdown",
      "metadata": {
        "id": "SsZDSxhQWssI",
        "colab_type": "text"
      },
      "source": [
        "## [3.1].  Preprocessing Review Text\n",
        "\n",
        "Now that we have finished deduplication our data requires some preprocessing before we go on further with analysis and making the prediction model.\n",
        "\n",
        "Hence in the Preprocessing phase we do the following in the order below:-\n",
        "\n",
        "1. Begin by removing the html tags\n",
        "2. Remove any punctuations or limited set of special characters like , or . or # etc.\n",
        "3. Check if the word is made up of english letters and is not alpha-numeric\n",
        "4. Check to see if the length of the word is greater than 2 (as it was researched that there is no adjective in 2-letters)\n",
        "5. Convert the word to lowercase\n",
        "6. Remove Stopwords\n",
        "7. Finally Snowball Stemming the word (it was obsereved to be better than Porter Stemming)<br>\n",
        "\n",
        "After which we collect the words used to describe positive and negative reviews"
      ]
    },
    {
      "cell_type": "code",
      "metadata": {
        "id": "tS0WV1JNWssJ",
        "colab_type": "code",
        "outputId": "d1755e98-5086-4173-ebe9-7544cad8275d",
        "colab": {
          "base_uri": "https://localhost:8080/",
          "height": 170
        }
      },
      "source": [
        "# printing some random reviews\n",
        "sent_0 = final['Text'].values[0]\n",
        "print(sent_0)\n",
        "print(\"=\"*50)\n",
        "\n",
        "sent_1000 = final['Text'].values[100]\n",
        "print(sent_1000)\n",
        "print(\"=\"*50)\n",
        "\n",
        "sent_1500 = final['Text'].values[150]\n",
        "print(sent_1500)\n",
        "print(\"=\"*50)\n",
        "\n",
        "sent_4900 = final['Text'].values[490]\n",
        "print(sent_4900)\n",
        "print(\"=\"*50)"
      ],
      "execution_count": 0,
      "outputs": [
        {
          "output_type": "stream",
          "text": [
            "We have used the Victor fly bait for 3 seasons.  Can't beat it.  Great product!\n",
            "==================================================\n",
            "Adzuki ( or Azuki) beans are ment to be used in asian sweets. You can make sweet bean paste by boiling the beans for 30-40 min, (changing the water out at least twice) draining and mashing the beans with sugar.(strain the paste if you do not like the bean skins)  What you get is a paste that can be put on ice cream, fill pasteries or stuff into Mochi Cakes.\n",
            "==================================================\n",
            "love the snack.  wanted to buy a bunch.<p>shipping at amazon is more than the price of the snack.  try ordering a dozen and then look at the shipping price.<p>every link i've tried to this snack takes you back to amazon's exhorbitant shipping rates.<p>another reason to buy your books at overstock.com.  too back they don't carry food as well.\n",
            "==================================================\n",
            "My son had this Jablum roasted and ground coffee brought back from Jamaica and paid a lot for it.  I have drunk blue mountain for years when I can but this was shocking.  It tasted stale when you opened the bag and even worse when you drank it.  It was definitely off.  He bought 5 bags and every one we tried was the same.  I would never buy another.  We had bought another brand in a tin from Jamaica which was fine.  I think this is a con.  You get all the rubbish about it being tested in Jamaica, well I dont know who tests it but definitely not someone who likes good coffee.  I just dont understand how people say its any good. Maybe having paid so much for it its like the emperor's new clothes.\n",
            "==================================================\n"
          ],
          "name": "stdout"
        }
      ]
    },
    {
      "cell_type": "code",
      "metadata": {
        "id": "jGdt7l17WssN",
        "colab_type": "code",
        "outputId": "bd0a7236-3957-4f78-8071-5e48a456652e",
        "colab": {
          "base_uri": "https://localhost:8080/",
          "height": 33
        }
      },
      "source": [
        "# remove urls from text python: https://stackoverflow.com/a/40823105/4084039\n",
        "sent_0 = re.sub(r\"http\\S+\", \"\", sent_0)\n",
        "sent_1000 = re.sub(r\"http\\S+\", \"\", sent_1000)\n",
        "sent_150 = re.sub(r\"http\\S+\", \"\", sent_1500)\n",
        "sent_4900 = re.sub(r\"http\\S+\", \"\", sent_4900)\n",
        "\n",
        "print(sent_0)"
      ],
      "execution_count": 0,
      "outputs": [
        {
          "output_type": "stream",
          "text": [
            "We have used the Victor fly bait for 3 seasons.  Can't beat it.  Great product!\n"
          ],
          "name": "stdout"
        }
      ]
    },
    {
      "cell_type": "code",
      "metadata": {
        "id": "NG07ddUdWssR",
        "colab_type": "code",
        "outputId": "5125f617-fd7d-4671-fe89-317876fb2315",
        "colab": {
          "base_uri": "https://localhost:8080/",
          "height": 154
        }
      },
      "source": [
        "# https://stackoverflow.com/questions/16206380/python-beautifulsoup-how-to-remove-all-tags-from-an-element\n",
        "from bs4 import BeautifulSoup\n",
        "\n",
        "soup = BeautifulSoup(sent_0, 'lxml')\n",
        "text = soup.get_text()\n",
        "print(text)\n",
        "print(\"=\"*50)\n",
        "\n",
        "soup = BeautifulSoup(sent_1000, 'lxml')\n",
        "text = soup.get_text()\n",
        "print(text)\n",
        "print(\"=\"*50)\n",
        "\n",
        "soup = BeautifulSoup(sent_1500, 'lxml')\n",
        "text = soup.get_text()\n",
        "print(text)\n",
        "print(\"=\"*50)\n",
        "\n",
        "soup = BeautifulSoup(sent_4900, 'lxml')\n",
        "text = soup.get_text()\n",
        "print(text)"
      ],
      "execution_count": 0,
      "outputs": [
        {
          "output_type": "stream",
          "text": [
            "We have used the Victor fly bait for 3 seasons.  Can't beat it.  Great product!\n",
            "==================================================\n",
            "Adzuki ( or Azuki) beans are ment to be used in asian sweets. You can make sweet bean paste by boiling the beans for 30-40 min, (changing the water out at least twice) draining and mashing the beans with sugar.(strain the paste if you do not like the bean skins)  What you get is a paste that can be put on ice cream, fill pasteries or stuff into Mochi Cakes.\n",
            "==================================================\n",
            "love the snack.  wanted to buy a bunch.shipping at amazon is more than the price of the snack.  try ordering a dozen and then look at the shipping price.every link i've tried to this snack takes you back to amazon's exhorbitant shipping rates.another reason to buy your books at overstock.com.  too back they don't carry food as well.\n",
            "==================================================\n",
            "My son had this Jablum roasted and ground coffee brought back from Jamaica and paid a lot for it.  I have drunk blue mountain for years when I can but this was shocking.  It tasted stale when you opened the bag and even worse when you drank it.  It was definitely off.  He bought 5 bags and every one we tried was the same.  I would never buy another.  We had bought another brand in a tin from Jamaica which was fine.  I think this is a con.  You get all the rubbish about it being tested in Jamaica, well I dont know who tests it but definitely not someone who likes good coffee.  I just dont understand how people say its any good. Maybe having paid so much for it its like the emperor's new clothes.\n"
          ],
          "name": "stdout"
        }
      ]
    },
    {
      "cell_type": "code",
      "metadata": {
        "id": "qAqIqGTrWssW",
        "colab_type": "code",
        "colab": {}
      },
      "source": [
        "# https://stackoverflow.com/a/47091490/4084039\n",
        "import re\n",
        "\n",
        "def decontracted(phrase):\n",
        "    # specific\n",
        "    phrase = re.sub(r\"won't\", \"will not\", phrase)\n",
        "    phrase = re.sub(r\"can\\'t\", \"can not\", phrase)\n",
        "\n",
        "    # general\n",
        "    phrase = re.sub(r\"n\\'t\", \" not\", phrase)\n",
        "    phrase = re.sub(r\"\\'re\", \" are\", phrase)\n",
        "    phrase = re.sub(r\"\\'s\", \" is\", phrase)\n",
        "    phrase = re.sub(r\"\\'d\", \" would\", phrase)\n",
        "    phrase = re.sub(r\"\\'ll\", \" will\", phrase)\n",
        "    phrase = re.sub(r\"\\'t\", \" not\", phrase)\n",
        "    phrase = re.sub(r\"\\'ve\", \" have\", phrase)\n",
        "    phrase = re.sub(r\"\\'m\", \" am\", phrase)\n",
        "    return phrase"
      ],
      "execution_count": 0,
      "outputs": []
    },
    {
      "cell_type": "code",
      "metadata": {
        "id": "umaMY-eVWssZ",
        "colab_type": "code",
        "outputId": "e97b7037-6c57-4022-a6ba-387d4305740f",
        "colab": {
          "base_uri": "https://localhost:8080/",
          "height": 70
        }
      },
      "source": [
        "sent_1500 = decontracted(sent_1500)\n",
        "print(sent_1500)\n",
        "print(\"=\"*50)"
      ],
      "execution_count": 0,
      "outputs": [
        {
          "output_type": "stream",
          "text": [
            "love the snack.  wanted to buy a bunch.<p>shipping at amazon is more than the price of the snack.  try ordering a dozen and then look at the shipping price.<p>every link i have tried to this snack takes you back to amazon is exhorbitant shipping rates.<p>another reason to buy your books at overstock.com.  too back they do not carry food as well.\n",
            "==================================================\n"
          ],
          "name": "stdout"
        }
      ]
    },
    {
      "cell_type": "code",
      "metadata": {
        "id": "7wW1v9ELWssd",
        "colab_type": "code",
        "outputId": "afad9e5a-abdc-4bda-b311-86e58b02dd5b",
        "colab": {
          "base_uri": "https://localhost:8080/",
          "height": 33
        }
      },
      "source": [
        "#remove words with numbers python: https://stackoverflow.com/a/18082370/4084039\n",
        "sent_0 = re.sub(\"\\S*\\d\\S*\", \"\", sent_0).strip()\n",
        "print(sent_0)"
      ],
      "execution_count": 0,
      "outputs": [
        {
          "output_type": "stream",
          "text": [
            "We have used the Victor fly bait for  seasons.  Can't beat it.  Great product!\n"
          ],
          "name": "stdout"
        }
      ]
    },
    {
      "cell_type": "code",
      "metadata": {
        "id": "Ka-NxTaLWssi",
        "colab_type": "code",
        "outputId": "ac285867-3f2e-401d-fe94-ae47c66bd7eb",
        "colab": {
          "base_uri": "https://localhost:8080/",
          "height": 53
        }
      },
      "source": [
        "#remove spacial character: https://stackoverflow.com/a/5843547/4084039\n",
        "sent_1500 = re.sub('[^A-Za-z0-9]+', ' ', sent_1500)\n",
        "print(sent_1500)"
      ],
      "execution_count": 0,
      "outputs": [
        {
          "output_type": "stream",
          "text": [
            "love the snack wanted to buy a bunch p shipping at amazon is more than the price of the snack try ordering a dozen and then look at the shipping price p every link i have tried to this snack takes you back to amazon is exhorbitant shipping rates p another reason to buy your books at overstock com too back they do not carry food as well \n"
          ],
          "name": "stdout"
        }
      ]
    },
    {
      "cell_type": "code",
      "metadata": {
        "id": "UIAICVkLWssm",
        "colab_type": "code",
        "colab": {}
      },
      "source": [
        "# https://gist.github.com/sebleier/554280\n",
        "# we are removing the words from the stop words list: 'no', 'nor', 'not'\n",
        "# <br /><br /> ==> after the above steps, we are getting \"br br\"\n",
        "# we are including them into stop words list\n",
        "# instead of <br /> if we have <br/> these tags would have revmoved in the 1st step\n",
        "\n",
        "stopwords= set(['br', 'the', 'i', 'me', 'my', 'myself', 'we', 'our', 'ours', 'ourselves', 'you', \"you're\", \"you've\",\\\n",
        "            \"you'll\", \"you'd\", 'your', 'yours', 'yourself', 'yourselves', 'he', 'him', 'his', 'himself', \\\n",
        "            'she', \"she's\", 'her', 'hers', 'herself', 'it', \"it's\", 'its', 'itself', 'they', 'them', 'their',\\\n",
        "            'theirs', 'themselves', 'what', 'which', 'who', 'whom', 'this', 'that', \"that'll\", 'these', 'those', \\\n",
        "            'am', 'is', 'are', 'was', 'were', 'be', 'been', 'being', 'have', 'has', 'had', 'having', 'do', 'does', \\\n",
        "            'did', 'doing', 'a', 'an', 'the', 'and', 'but', 'if', 'or', 'because', 'as', 'until', 'while', 'of', \\\n",
        "            'at', 'by', 'for', 'with', 'about', 'against', 'between', 'into', 'through', 'during', 'before', 'after',\\\n",
        "            'above', 'below', 'to', 'from', 'up', 'down', 'in', 'out', 'on', 'off', 'over', 'under', 'again', 'further',\\\n",
        "            'then', 'once', 'here', 'there', 'when', 'where', 'why', 'how', 'all', 'any', 'both', 'each', 'few', 'more',\\\n",
        "            'most', 'other', 'some', 'such', 'only', 'own', 'same', 'so', 'than', 'too', 'very', \\\n",
        "            's', 't', 'can', 'will', 'just', 'don', \"don't\", 'should', \"should've\", 'now', 'd', 'll', 'm', 'o', 're', \\\n",
        "            've', 'y', 'ain', 'aren', \"aren't\", 'couldn', \"couldn't\", 'didn', \"didn't\", 'doesn', \"doesn't\", 'hadn',\\\n",
        "            \"hadn't\", 'hasn', \"hasn't\", 'haven', \"haven't\", 'isn', \"isn't\", 'ma', 'mightn', \"mightn't\", 'mustn',\\\n",
        "            \"mustn't\", 'needn', \"needn't\", 'shan', \"shan't\", 'shouldn', \"shouldn't\", 'wasn', \"wasn't\", 'weren', \"weren't\", \\\n",
        "            'won', \"won't\", 'wouldn', \"wouldn't\"])"
      ],
      "execution_count": 0,
      "outputs": []
    },
    {
      "cell_type": "code",
      "metadata": {
        "id": "RWChnvcSWsso",
        "colab_type": "code",
        "outputId": "9337b155-5291-4832-eb78-7604ed46c3f4",
        "colab": {
          "base_uri": "https://localhost:8080/",
          "height": 33
        }
      },
      "source": [
        "# Combining all the above stundents \n",
        "from tqdm import tqdm\n",
        "preprocessed_reviews = []\n",
        "# tqdm is for printing the status bar\n",
        "for sentance in tqdm(final['Text'].values):\n",
        "    sentance = re.sub(r\"http\\S+\", \"\", sentance)\n",
        "    sentance = BeautifulSoup(sentance, 'lxml').get_text()\n",
        "    sentance = decontracted(sentance)\n",
        "    sentance = re.sub(\"\\S*\\d\\S*\", \"\", sentance).strip()\n",
        "    sentance = re.sub('[^A-Za-z]+', ' ', sentance)\n",
        "    # https://gist.github.com/sebleier/554280\n",
        "    sentance = ' '.join(e.lower() for e in sentance.split() if e.lower() not in stopwords)\n",
        "    preprocessed_reviews.append(sentance.strip())"
      ],
      "execution_count": 0,
      "outputs": [
        {
          "output_type": "stream",
          "text": [
            "100%|██████████| 9564/9564 [00:02<00:00, 3223.73it/s]\n"
          ],
          "name": "stderr"
        }
      ]
    },
    {
      "cell_type": "code",
      "metadata": {
        "id": "OON8KWLyWssr",
        "colab_type": "code",
        "outputId": "7d42c96c-d164-4094-8d7c-673f5c1cc07f",
        "colab": {
          "base_uri": "https://localhost:8080/",
          "height": 53
        }
      },
      "source": [
        "preprocessed_reviews[150]"
      ],
      "execution_count": 0,
      "outputs": [
        {
          "output_type": "execute_result",
          "data": {
            "text/plain": [
              "'love snack wanted buy bunch shipping amazon price snack try ordering dozen look shipping price every link tried snack takes back amazon exhorbitant shipping rates another reason buy books overstock com back not carry food well'"
            ]
          },
          "metadata": {
            "tags": []
          },
          "execution_count": 24
        }
      ]
    },
    {
      "cell_type": "code",
      "metadata": {
        "id": "LIg1BLHHWssv",
        "colab_type": "code",
        "outputId": "38eec967-51bb-4ae4-9a80-38590e184711",
        "colab": {
          "base_uri": "https://localhost:8080/",
          "height": 33
        }
      },
      "source": [
        "#This is the cleaned data which we will be needing for our processing\n",
        "final[\"cleaned_text\"] = preprocessed_reviews\n",
        "final.shape"
      ],
      "execution_count": 0,
      "outputs": [
        {
          "output_type": "execute_result",
          "data": {
            "text/plain": [
              "(9564, 11)"
            ]
          },
          "metadata": {
            "tags": []
          },
          "execution_count": 25
        }
      ]
    },
    {
      "cell_type": "code",
      "metadata": {
        "id": "rNBGc5RbMvzp",
        "colab_type": "code",
        "outputId": "5381a9e8-f9e9-48ab-a0c6-26b5a0b9bfa6",
        "colab": {
          "base_uri": "https://localhost:8080/",
          "height": 33
        }
      },
      "source": [
        "positive_points = final[final['Score'] == 1]\n",
        "negative_points = final[final['Score'] == 0]\n",
        "total_points = pd.concat([positive_points, negative_points])\n",
        "total_points.shape"
      ],
      "execution_count": 0,
      "outputs": [
        {
          "output_type": "execute_result",
          "data": {
            "text/plain": [
              "(9564, 11)"
            ]
          },
          "metadata": {
            "tags": []
          },
          "execution_count": 26
        }
      ]
    },
    {
      "cell_type": "code",
      "metadata": {
        "id": "lbayalBng7nR",
        "colab_type": "code",
        "outputId": "68866042-17c4-43a0-931c-39c52d09514e",
        "colab": {
          "base_uri": "https://localhost:8080/",
          "height": 84
        }
      },
      "source": [
        "Y = total_points['Score'].values\n",
        "X = total_points['cleaned_text'].values\n",
        "print(Y.shape)\n",
        "print(type(Y))\n",
        "print(X.shape)\n",
        "print(type(X))"
      ],
      "execution_count": 0,
      "outputs": [
        {
          "output_type": "stream",
          "text": [
            "(9564,)\n",
            "<class 'numpy.ndarray'>\n",
            "(9564,)\n",
            "<class 'numpy.ndarray'>\n"
          ],
          "name": "stdout"
        }
      ]
    },
    {
      "cell_type": "markdown",
      "metadata": {
        "id": "1qxKBxt-Wssz",
        "colab_type": "text"
      },
      "source": [
        "<h2><font color='red'>[3.2] Preprocessing Review Summary</font></h2>"
      ]
    },
    {
      "cell_type": "code",
      "metadata": {
        "id": "VYOerZhyWssz",
        "colab_type": "code",
        "colab": {}
      },
      "source": [
        "## Similartly you can do preprocessing for review summary also."
      ],
      "execution_count": 0,
      "outputs": []
    },
    {
      "cell_type": "markdown",
      "metadata": {
        "id": "okc7v0XmWss4",
        "colab_type": "text"
      },
      "source": [
        "# [4] Featurization"
      ]
    },
    {
      "cell_type": "markdown",
      "metadata": {
        "id": "ROfNWABVWstV",
        "colab_type": "text"
      },
      "source": [
        "# [5] Assignment 3: KNN"
      ]
    },
    {
      "cell_type": "markdown",
      "metadata": {
        "id": "lptwNojlWstV",
        "colab_type": "text"
      },
      "source": [
        "<ol>\n",
        "    <li><strong>Apply Knn(brute force version) on these feature sets</strong>\n",
        "        <ul>\n",
        "            <li><font color='red'>SET 1:</font>Review text, preprocessed one converted into vectors using (BOW)</li>\n",
        "            <li><font color='red'>SET 2:</font>Review text, preprocessed one converted into vectors using (TFIDF)</li>\n",
        "            <li><font color='red'>SET 3:</font>Review text, preprocessed one converted into vectors using (AVG W2v)</li>\n",
        "            <li><font color='red'>SET 4:</font>Review text, preprocessed one converted into vectors using (TFIDF W2v)</li>\n",
        "        </ul>\n",
        "    </li>\n",
        "    <br>\n",
        "    <li><strong>Apply Knn(kd tree version) on these feature sets</strong>\n",
        "        <br><font color='red'>NOTE: </font>sklearn implementation of kd-tree accepts only dense matrices, you need to convert the sparse matrices of CountVectorizer/TfidfVectorizer into dense matices. You can convert sparse matrices to dense using .toarray() attribute. For more information please visit this <a href='https://docs.scipy.org/doc/scipy-0.18.1/reference/generated/scipy.sparse.csr_matrix.toarray.html'>link</a>\n",
        "        <ul>\n",
        "            <li><font color='red'>SET 5:</font>Review text, preprocessed one converted into vectors using (BOW) but with restriction on maximum features generated.\n",
        "            <pre>\n",
        "            count_vect = CountVectorizer(min_df=10, max_features=500) \n",
        "            count_vect.fit(preprocessed_reviews)\n",
        "            </pre>\n",
        "            </li>\n",
        "            <li><font color='red'>SET 6:</font>Review text, preprocessed one converted into vectors using (TFIDF) but with restriction on maximum features generated.\n",
        "            <pre>\n",
        "                tf_idf_vect = TfidfVectorizer(min_df=10, max_features=500)\n",
        "                tf_idf_vect.fit(preprocessed_reviews)\n",
        "            </pre>\n",
        "            </li>\n",
        "            <li><font color='red'>SET 3:</font>Review text, preprocessed one converted into vectors using (AVG W2v)</li>\n",
        "            <li><font color='red'>SET 4:</font>Review text, preprocessed one converted into vectors using (TFIDF W2v)</li>\n",
        "        </ul>\n",
        "    </li>\n",
        "    <br>\n",
        "    <li><strong>The hyper paramter tuning(find best K)</strong>\n",
        "        <ul>\n",
        "    <li>Find the best hyper parameter which will give the maximum <a href='https://www.appliedaicourse.com/course/applied-ai-course-online/lessons/receiver-operating-characteristic-curve-roc-curve-and-auc-1/'>AUC</a> value</li>\n",
        "    <li>Find the best hyper paramter using k-fold cross validation or simple cross validation data</li>\n",
        "    <li>Use gridsearch cv or randomsearch cv or you can also write your own for loops to do this task of hyperparameter tuning</li>\n",
        "        </ul>\n",
        "    </li>\n",
        "    <br>\n",
        "    <li>\n",
        "    <strong>Representation of results</strong>\n",
        "        <ul>\n",
        "    <li>You need to plot the performance of model both on train data and cross validation data for each hyper parameter, like shown in the figure\n",
        "    <img src='train_cv_auc.JPG' width=300px></li>\n",
        "    <li>Once after you found the best hyper parameter, you need to train your model with it, and find the AUC on test data and plot the ROC curve on both train and test.\n",
        "    <img src='train_test_auc.JPG' width=300px></li>\n",
        "    <li>Along with plotting ROC curve, you need to print the <a href='https://www.appliedaicourse.com/course/applied-ai-course-online/lessons/confusion-matrix-tpr-fpr-fnr-tnr-1/'>confusion matrix</a> with predicted and original labels of test data points\n",
        "    <img src='confusion_matrix.png' width=300px></li>\n",
        "        </ul>\n",
        "    </li>\n",
        "    <br>\n",
        "    <li><strong>Conclusion</strong>\n",
        "        <ul>\n",
        "    <li>You need to summarize the results at the end of the notebook, summarize it in the table format. To print out a table please refer to this prettytable library<a href='http://zetcode.com/python/prettytable/'> link</a> \n",
        "        <img src='summary.JPG' width=400px>\n",
        "    </li>\n",
        "        </ul>\n",
        "</ol>"
      ]
    },
    {
      "cell_type": "markdown",
      "metadata": {
        "id": "2W_CIQbjWstW",
        "colab_type": "text"
      },
      "source": [
        "<h4><font color='red'>Note: Data Leakage</font></h4>\n",
        "\n",
        "1. There will be an issue of data-leakage if you vectorize the entire data and then split it into train/cv/test.\n",
        "2. To avoid the issue of data-leakag, make sure to split your data first and then vectorize it. \n",
        "3. While vectorizing your data, apply the method fit_transform() on you train data, and apply the method transform() on cv/test data.\n",
        "4. For more details please go through this <a href='https://soundcloud.com/applied-ai-course/leakage-bow-and-tfidf'>link.</a>"
      ]
    },
    {
      "cell_type": "markdown",
      "metadata": {
        "id": "Bdlkx5qFWstX",
        "colab_type": "text"
      },
      "source": [
        "## [5.1] Applying KNN brute force"
      ]
    },
    {
      "cell_type": "markdown",
      "metadata": {
        "id": "BMzFfTk6WstX",
        "colab_type": "text"
      },
      "source": [
        "### [5.1.1] Applying KNN brute force on BOW,<font color='red'> SET 1</font>"
      ]
    },
    {
      "cell_type": "code",
      "metadata": {
        "colab_type": "code",
        "outputId": "8d89e485-22a5-4c42-9ce5-058f48e6daac",
        "id": "DjM0Rb7o4vYY",
        "colab": {
          "base_uri": "https://localhost:8080/",
          "height": 184
        }
      },
      "source": [
        "#BoW\n",
        "#Splitting the data for training and testing\n",
        "#Here the data is splitted with train size being 80% of the total data and test size being 20% of the total data\n",
        "X_train,X_test,Y_train,Y_test=train_test_split(X,Y,test_size=0.2,random_state=12)\n",
        "#Splitting the data for training and cross-validation dataset\n",
        "X_train,X_cv,Y_train,Y_cv=train_test_split(X,Y,test_size=0.2,random_state=12)\n",
        "\n",
        "print('='*100)\n",
        "print(\"After splitting\")\n",
        "print(X_train.shape,Y_train.shape)\n",
        "print(X_cv.shape,Y_cv.shape)\n",
        "print(X_test.shape,Y_test.shape)\n",
        "\n",
        "#For vectorizing the text data into vector we will be using the BOW here where here i am using the Bi-Grams ranging from 1 to 2\n",
        "vectorizer = CountVectorizer(ngram_range=(1,2)) #in scikit-learn\n",
        "#Here for converting the text to vectorizing we will be using only the X data and not Y data\n",
        "vectorizer.fit(X_train)\n",
        "X_train_bow=vectorizer.transform(X_train)\n",
        "X_cv_bow=vectorizer.transform(X_cv)\n",
        "X_test_bow=vectorizer.transform(X_test)\n",
        "print('='*100)\n",
        "print(\"After transform\")\n",
        "print(X_train_bow.shape,Y_train.shape)\n",
        "print(X_cv_bow.shape,Y_cv.shape)\n",
        "print(X_test_bow.shape,Y_cv.shape)\n"
      ],
      "execution_count": 0,
      "outputs": [
        {
          "output_type": "stream",
          "text": [
            "====================================================================================================\n",
            "After splitting\n",
            "(7651,) (7651,)\n",
            "(1913,) (1913,)\n",
            "(1913,) (1913,)\n",
            "====================================================================================================\n",
            "After transform\n",
            "(7651, 199428) (7651,)\n",
            "(1913, 199428) (1913,)\n",
            "(1913, 199428) (1913,)\n"
          ],
          "name": "stdout"
        }
      ]
    },
    {
      "cell_type": "code",
      "metadata": {
        "id": "5dvbhxoTWstb",
        "colab_type": "code",
        "outputId": "a9fd558c-b86d-431d-c430-842c749a04bc",
        "colab": {
          "base_uri": "https://localhost:8080/",
          "height": 311
        }
      },
      "source": [
        "#Here we try to find the best hyperparameter for our model\n",
        "train_auc = []\n",
        "cv_auc = []\n",
        "#For best hyperparameter we are investigating in a range from 1 to 150 by a step of 10\n",
        "K = list(range(1, 150, 10))\n",
        "#Using tqdm for tracking the progress\n",
        "for i in tqdm(K):\n",
        "  #Defining the model\n",
        "    neigh = KNeighborsClassifier(n_neighbors=i, algorithm='brute')\n",
        "    #Fitting the vectorized training data of X from BOW and training data of Y\n",
        "    neigh.fit(X_train_bow, Y_train)\n",
        "    # roc_auc_score(y_true, y_score) the 2nd parameter should be probability estimates of the positive class\n",
        "    # not the predicted outputs\n",
        "    Y_train_pred =  neigh.predict_proba(X_train_bow)[:,1]\n",
        "    Y_cv_pred =  neigh.predict_proba(X_cv_bow)[:,1]\n",
        "    \n",
        "    #calculating the roc_auc_score on both the training data and cross validation dataset\n",
        "    train_auc.append(roc_auc_score(Y_train,Y_train_pred))\n",
        "    cv_auc.append(roc_auc_score(Y_cv, Y_cv_pred))\n",
        "\n",
        "#plotting both the scatter plots and ordinary plots using the train AUC and cross validation AUC scores\n",
        "plt.plot(K, train_auc, label='Train AUC')\n",
        "plt.scatter(K, train_auc, label='Train AUC')\n",
        "plt.plot(K, cv_auc, label='CV AUC')\n",
        "plt.scatter(K, cv_auc, label='CV AUC')\n",
        "plt.legend()\n",
        "plt.xlabel(\"K: hyperparameter\")\n",
        "plt.ylabel(\"AUC\")\n",
        "plt.title(\"ERROR PLOTS\")\n",
        "plt.show()"
      ],
      "execution_count": 0,
      "outputs": [
        {
          "output_type": "stream",
          "text": [
            "100%|██████████| 15/15 [00:53<00:00,  3.69s/it]\n"
          ],
          "name": "stderr"
        },
        {
          "output_type": "display_data",
          "data": {
            "image/png": "[encoded data removed]",
            "text/plain": [
              "<Figure size 432x288 with 1 Axes>"
            ]
          },
          "metadata": {
            "tags": []
          }
        }
      ]
    },
    {
      "cell_type": "markdown",
      "metadata": {
        "id": "MJMrsxklGxwJ",
        "colab_type": "text"
      },
      "source": [
        "###Misclassification Error using the cv_auc score that we have obtained"
      ]
    },
    {
      "cell_type": "code",
      "metadata": {
        "id": "QGuAwFdQF1UI",
        "colab_type": "code",
        "outputId": "d96faf58-8ca9-4201-df68-4d8df8f1f669",
        "colab": {
          "base_uri": "https://localhost:8080/",
          "height": 33
        }
      },
      "source": [
        "#Optimal value of K: hyper parameter using the CV_auc as cross validation plays a important role\n",
        "MSE_cv_auc = [1-x for x in cv_auc]\n",
        "optimal_K_bow = K[MSE_cv_auc.index(min(MSE_cv_auc))]\n",
        "print(\"The optimal K:Hyper paramter value using the cross validation - AUC score is : \", optimal_K_bow)"
      ],
      "execution_count": 0,
      "outputs": [
        {
          "output_type": "stream",
          "text": [
            "The optimal K:Hyper paramter value using the cross validation - AUC score is :  141\n"
          ],
          "name": "stdout"
        }
      ]
    },
    {
      "cell_type": "code",
      "metadata": {
        "id": "7x6kP_auGpen",
        "colab_type": "code",
        "outputId": "09a72196-6958-44ff-9844-ce59f676391c",
        "colab": {
          "base_uri": "https://localhost:8080/",
          "height": 294
        }
      },
      "source": [
        "#Plotting the graph using the cv_auc score for the best hyperparameter\n",
        "plt.plot(K, MSE_cv_auc)\n",
        "plt.title(\"Number of neighbors and error\")\n",
        "plt.xlabel(\"Number of neighbors\")\n",
        "plt.ylabel(\"Missclassification error\")\n",
        "plt.show()"
      ],
      "execution_count": 0,
      "outputs": [
        {
          "output_type": "display_data",
          "data": {
            "image/png": "[encoded data removed]",
            "text/plain": [
              "<Figure size 432x288 with 1 Axes>"
            ]
          },
          "metadata": {
            "tags": []
          }
        }
      ]
    },
    {
      "cell_type": "code",
      "metadata": {
        "id": "1C67MRW7jgFi",
        "colab_type": "code",
        "outputId": "ff3da404-1612-4b2c-fded-eaed4ff82e0f",
        "colab": {
          "base_uri": "https://localhost:8080/",
          "height": 33
        }
      },
      "source": [
        "#Finding the best hyperparameter using the cross validation score available in scikit learn -> model selection\n",
        "from sklearn.model_selection import cross_val_score\n",
        "from sklearn.metrics import accuracy_score\n",
        "neighbors = list(range(80, 100, 2))\n",
        "#Calculating the cross validation scores using the scoring mechanisam as the accuracy\n",
        "#Accuracy is not a standard score to believe which is to be noted\n",
        "cv_score = []\n",
        "for k in tqdm(neighbors):\n",
        "    knn = KNeighborsClassifier(n_neighbors=k, algorithm='brute')\n",
        "    scores = cross_val_score(knn, X_train_bow, Y_train, cv=10, scoring='accuracy')\n",
        "    cv_score.append(scores.mean()) "
      ],
      "execution_count": 0,
      "outputs": [
        {
          "output_type": "stream",
          "text": [
            "100%|██████████| 10/10 [00:30<00:00,  3.06s/it]\n"
          ],
          "name": "stderr"
        }
      ]
    },
    {
      "cell_type": "markdown",
      "metadata": {
        "id": "U8Q-ZzMkWstf",
        "colab_type": "text"
      },
      "source": [
        "### Missclassification Error using the cv_score"
      ]
    },
    {
      "cell_type": "code",
      "metadata": {
        "id": "d3T-CQOwWstg",
        "colab_type": "code",
        "outputId": "edd46fec-5957-442e-ef24-879d2cd43a7f",
        "colab": {
          "base_uri": "https://localhost:8080/",
          "height": 378
        }
      },
      "source": [
        "#Mis classification can be termed as the error that has been plotted after obtaining the results of the cross validation scores\n",
        "MSE = [1 - x for x in cv_score]\n",
        "optimal_k1 = neighbors[MSE.index(min(MSE))]\n",
        "print(\"_\" * 101)\n",
        "print(\"Optimal number of neighbors: \", optimal_k1)\n",
        "print(\"_\" * 101)\n",
        "print(\"Missclassification error for each k values: \", np.round(MSE, 3))\n",
        "print(\"_\" * 101)\n",
        "\n",
        "plt.plot(neighbors, MSE)\n",
        "plt.title(\"Number of neighbors and error\")\n",
        "plt.xlabel(\"Number of neighbors\")\n",
        "plt.ylabel(\"Missclassification error\")\n",
        "plt.show()"
      ],
      "execution_count": 0,
      "outputs": [
        {
          "output_type": "stream",
          "text": [
            "_____________________________________________________________________________________________________\n",
            "Optimal number of neighbors:  80\n",
            "_____________________________________________________________________________________________________\n",
            "Missclassification error for each k values:  [0.168 0.168 0.168 0.168 0.168 0.168 0.168 0.168 0.168 0.168]\n",
            "_____________________________________________________________________________________________________\n"
          ],
          "name": "stdout"
        },
        {
          "output_type": "display_data",
          "data": {
            "image/png": "[encoded data removed]",
            "text/plain": [
              "<Figure size 432x288 with 1 Axes>"
            ]
          },
          "metadata": {
            "tags": []
          }
        }
      ]
    },
    {
      "cell_type": "code",
      "metadata": {
        "id": "bEJxqLpZkQ1y",
        "colab_type": "code",
        "colab": {}
      },
      "source": [
        "#Now applying the KNN model using the optimal K value hyper parameter using the brute force algorithm by taking the hyperparameter from the cv_auc score\n",
        "optimal_model = KNeighborsClassifier(n_neighbors=optimal_K_bow,algorithm='brute')\n",
        "optimal_model.fit(X_train_bow, Y_train)\n",
        "prediction = optimal_model.predict(X_test_bow)"
      ],
      "execution_count": 0,
      "outputs": []
    },
    {
      "cell_type": "code",
      "metadata": {
        "id": "WoDRbNnakeWQ",
        "colab_type": "code",
        "outputId": "38dc70e1-a8dc-4964-fa25-c48cb1728c63",
        "colab": {
          "base_uri": "https://localhost:8080/",
          "height": 311
        }
      },
      "source": [
        "#calculating the metrics for the confusion matrix TPR and FPR\n",
        "#calculating the TPR and FPR on training dataset\n",
        "train_fpr, train_tpr, thresholds = roc_curve(Y_train, optimal_model.predict_proba(X_train_bow)[:,1])\n",
        "#calculating the TPR and FPR on test dataset\n",
        "test_fpr, test_tpr, thresholds = roc_curve(Y_test, optimal_model.predict_proba(X_test_bow)[:,1])\n",
        "AUC1=str(auc(test_fpr, test_tpr))\n",
        "print(\"AUC test score for the BOW : \",AUC1)\n",
        "\n",
        "#plotting the graph\n",
        "plt.plot(train_fpr, train_tpr, label=\"train AUC =\"+str(auc(train_fpr, train_tpr)))\n",
        "plt.plot(test_fpr, test_tpr, label=\"test AUC =\"+str(auc(test_fpr, test_tpr)))\n",
        "plt.legend()\n",
        "plt.xlabel(\"K: hyperparameter\")\n",
        "plt.ylabel(\"AUC\")\n",
        "plt.title(\"ERROR PLOTS\")\n",
        "plt.show()"
      ],
      "execution_count": 0,
      "outputs": [
        {
          "output_type": "stream",
          "text": [
            "AUC test score for the BOW :  0.740887194309493\n"
          ],
          "name": "stdout"
        },
        {
          "output_type": "display_data",
          "data": {
            "image/png": "[encoded data removed]",
            "text/plain": [
              "<Figure size 432x288 with 1 Axes>"
            ]
          },
          "metadata": {
            "tags": []
          }
        }
      ]
    },
    {
      "cell_type": "markdown",
      "metadata": {
        "id": "N2ekV_wJWstj",
        "colab_type": "text"
      },
      "source": [
        "## Calculating the Accuracy"
      ]
    },
    {
      "cell_type": "code",
      "metadata": {
        "id": "z084YppFWstj",
        "colab_type": "code",
        "outputId": "f15e68f3-39d6-40ff-a7e4-b56b2dee7ceb",
        "colab": {
          "base_uri": "https://localhost:8080/",
          "height": 117
        }
      },
      "source": [
        "training_accuracy = optimal_model.score(X_train_bow, Y_train)\n",
        "training_error = 1 - training_accuracy\n",
        "test_accuracy = accuracy_score(Y_test, prediction)\n",
        "test_error = 1 - test_accuracy\n",
        "\n",
        "\n",
        "print(\"_\" * 101)\n",
        "print(\"Training Accuracy: \", training_accuracy)\n",
        "print(\"Train Error: \", training_error)\n",
        "print(\"Test Accuracy: \", test_accuracy)\n",
        "print(\"Test Error: \", test_error)\n",
        "print(\"_\" * 101)"
      ],
      "execution_count": 0,
      "outputs": [
        {
          "output_type": "stream",
          "text": [
            "_____________________________________________________________________________________________________\n",
            "Training Accuracy:  0.8315252908116586\n",
            "Train Error:  0.1684747091883414\n",
            "Test Accuracy:  0.8421327757449033\n",
            "Test Error:  0.1578672242550967\n",
            "_____________________________________________________________________________________________________\n"
          ],
          "name": "stdout"
        }
      ]
    },
    {
      "cell_type": "markdown",
      "metadata": {
        "id": "EXYEnXddWstu",
        "colab_type": "text"
      },
      "source": [
        "## Confusion Matrix"
      ]
    },
    {
      "cell_type": "code",
      "metadata": {
        "id": "eh5QAcmoWstv",
        "colab_type": "code",
        "outputId": "eaa11c29-069a-42c4-fbf6-cd011f428d3b",
        "colab": {
          "base_uri": "https://localhost:8080/",
          "height": 311
        }
      },
      "source": [
        "import seaborn as sb\n",
        "#calculating the confusion matrix between the TPR and the FPR\n",
        "conf_matrix = confusion_matrix(Y_test, optimal_model.predict(X_test_bow))\n",
        "class_label = [0, 1]\n",
        "df_conf_matrix = pd.DataFrame(conf_matrix, index=class_label, columns=class_label)\n",
        "sb.heatmap(df_conf_matrix, annot=True, fmt='d')\n",
        "plt.title(\"Confusion Matrix\")\n",
        "plt.xlabel(\"Predicted\")\n",
        "plt.ylabel(\"Actual\")\n",
        "plt.show()\n",
        "print(\"_\" * 101)"
      ],
      "execution_count": 0,
      "outputs": [
        {
          "output_type": "display_data",
          "data": {
            "image/png": "[encoded data removed]",
            "text/plain": [
              "<Figure size 432x288 with 2 Axes>"
            ]
          },
          "metadata": {
            "tags": []
          }
        },
        {
          "output_type": "stream",
          "text": [
            "_____________________________________________________________________________________________________\n"
          ],
          "name": "stdout"
        }
      ]
    },
    {
      "cell_type": "code",
      "metadata": {
        "id": "VoiThWpsH4Yw",
        "colab_type": "code",
        "outputId": "a3f2e964-8664-45a9-8f27-bb79cfd938f8",
        "colab": {
          "base_uri": "https://localhost:8080/",
          "height": 167
        }
      },
      "source": [
        "from sklearn.metrics import classification_report\n",
        "print(classification_report(Y_test, prediction))"
      ],
      "execution_count": 0,
      "outputs": [
        {
          "output_type": "stream",
          "text": [
            "              precision    recall  f1-score   support\n",
            "\n",
            "           0       1.00      0.00      0.01       303\n",
            "           1       0.84      1.00      0.91      1610\n",
            "\n",
            "    accuracy                           0.84      1913\n",
            "   macro avg       0.92      0.50      0.46      1913\n",
            "weighted avg       0.87      0.84      0.77      1913\n",
            "\n"
          ],
          "name": "stdout"
        }
      ]
    },
    {
      "cell_type": "markdown",
      "metadata": {
        "id": "Jbjp8FN7Wst2",
        "colab_type": "text"
      },
      "source": [
        "### [5.1.2] Applying KNN brute force on TFIDF,<font color='red'> SET 2</font>"
      ]
    },
    {
      "cell_type": "code",
      "metadata": {
        "colab_type": "code",
        "id": "YRr_XLqt470p",
        "colab": {}
      },
      "source": [
        "tf_idf_vect = TfidfVectorizer(ngram_range=(1,2), min_df=5)\n",
        "tf_idf_vect.fit(X_train)\n",
        "X_train_tfidf= tf_idf_vect.transform(X_train)\n",
        "X_cv_tfidf=tf_idf_vect.transform(X_cv)\n",
        "X_test_tfidf=tf_idf_vect.transform(X_test)"
      ],
      "execution_count": 0,
      "outputs": []
    },
    {
      "cell_type": "code",
      "metadata": {
        "id": "1odQVlFUWst2",
        "colab_type": "code",
        "outputId": "ec0b94c1-bca1-40a2-d44a-76ba74b1aa13",
        "colab": {
          "base_uri": "https://localhost:8080/",
          "height": 311
        }
      },
      "source": [
        "train_auc = []\n",
        "cv_auc = []\n",
        "K = list(range(1, 400, 10))\n",
        "for i in tqdm(K):\n",
        "    neigh = KNeighborsClassifier(n_neighbors=i, algorithm='brute')\n",
        "    neigh.fit(X_train_tfidf, Y_train)\n",
        "    # roc_auc_score(y_true, y_score) the 2nd parameter should be probability estimates of the positive class\n",
        "    # not the predicted outputs\n",
        "    Y_train_pred =  neigh.predict_proba(X_train_tfidf)[:,1]\n",
        "    Y_cv_pred =  neigh.predict_proba(X_cv_tfidf)[:,1]\n",
        "    \n",
        "    train_auc.append(roc_auc_score(Y_train,Y_train_pred))\n",
        "    cv_auc.append(roc_auc_score(Y_cv, Y_cv_pred))\n",
        "\n",
        "plt.plot(K, train_auc, label='Train AUC')\n",
        "plt.scatter(K, train_auc, label='Train AUC')\n",
        "plt.plot(K, cv_auc, label='CV AUC')\n",
        "plt.scatter(K, cv_auc, label='CV AUC')\n",
        "plt.legend()\n",
        "plt.xlabel(\"K: hyperparameter\")\n",
        "plt.ylabel(\"AUC\")\n",
        "plt.title(\"ERROR PLOTS\")\n",
        "plt.show()"
      ],
      "execution_count": 0,
      "outputs": [
        {
          "output_type": "stream",
          "text": [
            "100%|██████████| 40/40 [02:24<00:00,  4.01s/it]\n"
          ],
          "name": "stderr"
        },
        {
          "output_type": "display_data",
          "data": {
            "image/png": "[encoded data removed]",
            "text/plain": [
              "<Figure size 432x288 with 1 Axes>"
            ]
          },
          "metadata": {
            "tags": []
          }
        }
      ]
    },
    {
      "cell_type": "code",
      "metadata": {
        "id": "UXsLyAVTWst5",
        "colab_type": "code",
        "outputId": "38739706-4de0-4be5-ebfa-6ba15541441c",
        "colab": {
          "base_uri": "https://localhost:8080/",
          "height": 33
        }
      },
      "source": [
        "neighbors = list(range(151, 400,10))\n",
        "cv_score = []\n",
        "for k in tqdm(neighbors):\n",
        "    knn = KNeighborsClassifier(n_neighbors=k, algorithm='brute')\n",
        "    scores = cross_val_score(knn, X_train_tfidf, Y_train, cv=10, scoring='accuracy')\n",
        "    cv_score.append(scores.mean()) "
      ],
      "execution_count": 0,
      "outputs": [
        {
          "output_type": "stream",
          "text": [
            "100%|██████████| 25/25 [01:11<00:00,  2.93s/it]\n"
          ],
          "name": "stderr"
        }
      ]
    },
    {
      "cell_type": "code",
      "metadata": {
        "id": "M7bDJbWqWst8",
        "colab_type": "code",
        "outputId": "82926203-60c5-44b8-b0e0-7afd35898f04",
        "colab": {
          "base_uri": "https://localhost:8080/",
          "height": 412
        }
      },
      "source": [
        "MSE = [1 - x for x in cv_score]\n",
        "optimal_k2 = neighbors[MSE.index(min(MSE))]\n",
        "print(\"_\" * 101)\n",
        "print(\"Optimal number of neighbors: \", optimal_k2)\n",
        "print(\"_\" * 101)\n",
        "print(\"Missclassification error for each k values: \", np.round(MSE, 3))\n",
        "print(\"_\" * 101)\n",
        "\n",
        "plt.plot(neighbors, MSE)\n",
        "plt.title(\"Number of neighbors and error\")\n",
        "plt.xlabel(\"Number of neighbors\")\n",
        "plt.ylabel(\"Missclassification error\")\n",
        "plt.show()"
      ],
      "execution_count": 0,
      "outputs": [
        {
          "output_type": "stream",
          "text": [
            "_____________________________________________________________________________________________________\n",
            "Optimal number of neighbors:  151\n",
            "_____________________________________________________________________________________________________\n",
            "Missclassification error for each k values:  [0.167 0.167 0.167 0.167 0.167 0.167 0.168 0.168 0.168 0.168 0.168 0.168\n",
            " 0.168 0.168 0.168 0.168 0.168 0.168 0.168 0.168 0.168 0.168 0.168 0.168\n",
            " 0.168]\n",
            "_____________________________________________________________________________________________________\n"
          ],
          "name": "stdout"
        },
        {
          "output_type": "display_data",
          "data": {
            "image/png": "[encoded data removed]",
            "text/plain": [
              "<Figure size 432x288 with 1 Axes>"
            ]
          },
          "metadata": {
            "tags": []
          }
        }
      ]
    },
    {
      "cell_type": "code",
      "metadata": {
        "id": "LyVVo8mbWst-",
        "colab_type": "code",
        "colab": {}
      },
      "source": [
        "optimal_model = KNeighborsClassifier(n_neighbors=optimal_k2, algorithm='brute')\n",
        "optimal_model.fit(X_train_tfidf, Y_train)\n",
        "prediction = optimal_model.predict(X_test_tfidf)"
      ],
      "execution_count": 0,
      "outputs": []
    },
    {
      "cell_type": "code",
      "metadata": {
        "id": "c_hiPjk9WsuF",
        "colab_type": "code",
        "outputId": "8365641b-be5f-44a7-ac2d-54b43954dbea",
        "colab": {
          "base_uri": "https://localhost:8080/",
          "height": 294
        }
      },
      "source": [
        "train_fpr, train_tpr, thresholds = roc_curve(Y_train, optimal_model.predict_proba(X_train_tfidf)[:,1])\n",
        "test_fpr, test_tpr, thresholds = roc_curve(Y_test, optimal_model.predict_proba(X_test_tfidf)[:,1])\n",
        "AUC2=str(auc(test_fpr, test_tpr))\n",
        "plt.plot(train_fpr, train_tpr, label=\"train AUC =\"+str(auc(train_fpr, train_tpr)))\n",
        "plt.plot(test_fpr, test_tpr, label=\"test AUC =\"+str(auc(test_fpr, test_tpr)))\n",
        "plt.legend()\n",
        "plt.xlabel(\"K: hyperparameter\")\n",
        "plt.ylabel(\"AUC\")\n",
        "plt.title(\"ERROR PLOTS\")\n",
        "plt.show()"
      ],
      "execution_count": 0,
      "outputs": [
        {
          "output_type": "display_data",
          "data": {
            "image/png": "[encoded data removed]",
            "text/plain": [
              "<Figure size 432x288 with 1 Axes>"
            ]
          },
          "metadata": {
            "tags": []
          }
        }
      ]
    },
    {
      "cell_type": "code",
      "metadata": {
        "id": "URkxIA3XpGsD",
        "colab_type": "code",
        "outputId": "9ab89798-cbe9-499e-edf0-bdf5bdd1f8eb",
        "colab": {
          "base_uri": "https://localhost:8080/",
          "height": 117
        }
      },
      "source": [
        "training_accuracy = optimal_model.score(X_train_tfidf, Y_train)\n",
        "training_error = 1 - training_accuracy\n",
        "test_accuracy = accuracy_score(Y_test, prediction)\n",
        "test_error = 1 - test_accuracy\n",
        "\n",
        "\n",
        "print(\"_\" * 101)\n",
        "print(\"Training Accuracy: \", training_accuracy)\n",
        "print(\"Train Error: \", training_error)\n",
        "print(\"Test Accuracy: \", test_accuracy)\n",
        "print(\"Test Error: \", test_error)\n",
        "print(\"_\" * 101)"
      ],
      "execution_count": 0,
      "outputs": [
        {
          "output_type": "stream",
          "text": [
            "_____________________________________________________________________________________________________\n",
            "Training Accuracy:  0.8329630113710627\n",
            "Train Error:  0.16703698862893734\n",
            "Test Accuracy:  0.8421327757449033\n",
            "Test Error:  0.1578672242550967\n",
            "_____________________________________________________________________________________________________\n"
          ],
          "name": "stdout"
        }
      ]
    },
    {
      "cell_type": "code",
      "metadata": {
        "id": "Aaimm-19pKDt",
        "colab_type": "code",
        "outputId": "314590a8-5f6e-4aef-dccb-2f472cffd49a",
        "colab": {
          "base_uri": "https://localhost:8080/",
          "height": 311
        }
      },
      "source": [
        "import seaborn as sb\n",
        "conf_matrix = confusion_matrix(Y_test, optimal_model.predict(X_test_tfidf))\n",
        "class_label = [0, 1]\n",
        "df_conf_matrix = pd.DataFrame(\n",
        "    conf_matrix, index=class_label, columns=class_label)\n",
        "sb.heatmap(df_conf_matrix, annot=True, fmt='d')\n",
        "plt.title(\"Confusion Matrix\")\n",
        "plt.xlabel(\"Predicted\")\n",
        "plt.ylabel(\"Actual\")\n",
        "plt.show()\n",
        "print(\"_\" * 101)"
      ],
      "execution_count": 0,
      "outputs": [
        {
          "output_type": "display_data",
          "data": {
            "image/png": "[encoded data removed]",
            "text/plain": [
              "<Figure size 432x288 with 2 Axes>"
            ]
          },
          "metadata": {
            "tags": []
          }
        },
        {
          "output_type": "stream",
          "text": [
            "_____________________________________________________________________________________________________\n"
          ],
          "name": "stdout"
        }
      ]
    },
    {
      "cell_type": "code",
      "metadata": {
        "id": "1RH0HF3JpNPl",
        "colab_type": "code",
        "outputId": "df146d67-4ebf-49ff-ad2b-a018c2ef73a5",
        "colab": {
          "base_uri": "https://localhost:8080/",
          "height": 167
        }
      },
      "source": [
        "from sklearn.metrics import classification_report\n",
        "print(classification_report(Y_test, prediction))"
      ],
      "execution_count": 0,
      "outputs": [
        {
          "output_type": "stream",
          "text": [
            "              precision    recall  f1-score   support\n",
            "\n",
            "           0       1.00      0.00      0.01       303\n",
            "           1       0.84      1.00      0.91      1610\n",
            "\n",
            "    accuracy                           0.84      1913\n",
            "   macro avg       0.92      0.50      0.46      1913\n",
            "weighted avg       0.87      0.84      0.77      1913\n",
            "\n"
          ],
          "name": "stdout"
        }
      ]
    },
    {
      "cell_type": "markdown",
      "metadata": {
        "id": "21DeIk1lWsuH",
        "colab_type": "text"
      },
      "source": [
        "### [5.1.3] Applying KNN brute force on AVG W2V,<font color='red'> SET 3</font>"
      ]
    },
    {
      "cell_type": "code",
      "metadata": {
        "colab_type": "code",
        "outputId": "a0249a14-f9e6-4d75-c04c-5765d54a8a9d",
        "id": "XS_Orz2y5hDF",
        "colab": {
          "base_uri": "https://localhost:8080/",
          "height": 70
        }
      },
      "source": [
        "i=0\n",
        "list_of_sentance_train=[]\n",
        "for sentance in X_train:\n",
        "    list_of_sentance_train.append(sentance.split())\n",
        "\n",
        "# this line of code trains your w2v model on the give list of sentances\n",
        "w2v_model=Word2Vec(list_of_sentance_train,min_count=5,size=50, workers=4)\n",
        "\n",
        "w2v_words = list(w2v_model.wv.vocab)\n",
        "print(\"number of words that occured minimum 5 times \",len(w2v_words))\n",
        "print(\"sample words \", w2v_words[0:50])"
      ],
      "execution_count": 0,
      "outputs": [
        {
          "output_type": "stream",
          "text": [
            "number of words that occured minimum 5 times  4991\n",
            "sample words  ['ok', 'guess', 'bag', 'pound', 'salt', 'find', 'away', 'piece', 'taste', 'somewhat', 'decent', 'also', 'no', 'matter', 'set', 'microwave', 'little', 'burn', 'pieces', 'not', 'even', 'getting', 'whole', 'lot', 'one', 'actually', 'saves', 'basil', 'cilantro', 'extra', 'week', 'two', 'thats', 'enough', 'reason', 'buy', 'would', 'last', 'couple', 'days', 'toss', 'money', 'trip', 'market', 'stuff', 'list', 'ingredients', 'eat', 'anything', 'unless']\n"
          ],
          "name": "stdout"
        }
      ]
    },
    {
      "cell_type": "code",
      "metadata": {
        "colab_type": "code",
        "outputId": "6ef27a3f-b1ab-4bdb-c863-a20a7d3e29e5",
        "id": "n3ACy-bZ5hDU",
        "colab": {
          "base_uri": "https://localhost:8080/",
          "height": 201
        }
      },
      "source": [
        "sent_vectors_train = []; # the avg-w2v for each sentence/review is stored in this list\n",
        "for sent in tqdm(list_of_sentance_train): # for each review/sentence\n",
        "    sent_vec = np.zeros(50) # as word vectors are of zero length 50, you might need to change this to 300 if you use google's w2v\n",
        "    cnt_words =0; # num of words with a valid vector in the sentence/review\n",
        "    for word in sent: # for each word in a review/sentence\n",
        "        if word in w2v_words:\n",
        "            vec = w2v_model.wv[word]\n",
        "            sent_vec += vec\n",
        "            cnt_words += 1\n",
        "    if cnt_words != 0:\n",
        "        sent_vec /= cnt_words\n",
        "    sent_vectors_train.append(sent_vec)\n",
        "sent_vectors_train = np.array(sent_vectors_train)\n",
        "print(sent_vectors_train.shape)\n",
        "print(sent_vectors_train[0])"
      ],
      "execution_count": 0,
      "outputs": [
        {
          "output_type": "stream",
          "text": [
            "100%|██████████| 7651/7651 [00:05<00:00, 1317.37it/s]"
          ],
          "name": "stderr"
        },
        {
          "output_type": "stream",
          "text": [
            "(7651, 50)\n",
            "[ 0.55565886  0.36073021 -0.25484449 -0.63297493  0.88485064  0.58745281\n",
            " -0.49462734  0.40349941  0.61135925 -0.55191089 -0.33516306  0.18828971\n",
            "  0.2237699   0.06111992 -0.2985812   0.33899397  0.54943998  0.67041808\n",
            "  0.16938873 -0.37288465  0.41661672 -0.1806635  -0.08115518 -0.11952712\n",
            "  0.56340237  0.07067574  0.61201748  0.20849428  0.2391278   0.50589304\n",
            "  0.6733159   0.03670748 -0.04834856 -0.10481299 -0.10052461  0.10264153\n",
            " -0.62001864 -0.37440389  0.12379045 -0.68117226  0.40614625 -0.16215666\n",
            "  0.49071604  0.16001917  0.20309052 -0.03639025 -0.62980225  0.28183539\n",
            " -0.43410546  0.17039272]\n"
          ],
          "name": "stdout"
        },
        {
          "output_type": "stream",
          "text": [
            "\n"
          ],
          "name": "stderr"
        }
      ]
    },
    {
      "cell_type": "code",
      "metadata": {
        "id": "X7_42HHqWsuI",
        "colab_type": "code",
        "outputId": "faead618-a887-4e65-8cf7-23282fd9d27d",
        "colab": {
          "base_uri": "https://localhost:8080/",
          "height": 201
        }
      },
      "source": [
        "i=0\n",
        "list_of_sentance_cv=[]\n",
        "for sentance in X_cv:\n",
        "    list_of_sentance_cv.append(sentance.split())\n",
        "# average Word2Vec\n",
        "# compute average word2vec for each review.\n",
        "sent_vectors_cv = []; # the avg-w2v for each sentence/review is stored in this list\n",
        "for sent in tqdm(list_of_sentance_cv): # for each review/sentence\n",
        "    sent_vec = np.zeros(50) # as word vectors are of zero length 50, you might need to change this to 300 if you use google's w2v\n",
        "    cnt_words =0; # num of words with a valid vector in the sentence/review\n",
        "    for word in sent: # for each word in a review/sentence\n",
        "        if word in w2v_words:\n",
        "            vec = w2v_model.wv[word]\n",
        "            sent_vec += vec\n",
        "            cnt_words += 1\n",
        "    if cnt_words != 0:\n",
        "        sent_vec /= cnt_words\n",
        "    sent_vectors_cv.append(sent_vec)\n",
        "sent_vectors_cv = np.array(sent_vectors_cv)\n",
        "print(sent_vectors_cv.shape)\n",
        "print(sent_vectors_cv[0])"
      ],
      "execution_count": 0,
      "outputs": [
        {
          "output_type": "stream",
          "text": [
            "100%|██████████| 1913/1913 [00:01<00:00, 1230.37it/s]"
          ],
          "name": "stderr"
        },
        {
          "output_type": "stream",
          "text": [
            "(1913, 50)\n",
            "[ 0.28858792  0.37858321 -0.12544506 -0.56509752  0.76168258  0.32876971\n",
            " -0.43718037  0.38966323  0.55431691 -0.82196037 -0.39892155  0.04997526\n",
            " -0.08602379  0.17722039 -0.21239705  0.20358674  0.35966479  0.60874934\n",
            "  0.20076793 -0.43223627  0.40745849 -0.22756575 -0.0557838   0.09848863\n",
            "  0.45509606  0.04181786  0.46985418  0.25304826  0.09987237  0.35565114\n",
            "  0.66837579  0.04476445 -0.04276118 -0.10122381 -0.07767435  0.01714024\n",
            " -0.48282704 -0.56370069 -0.02358113 -0.71599302  0.23756929 -0.14163785\n",
            "  0.51932034  0.16756623  0.13181796 -0.1157634  -0.6062095   0.29229909\n",
            " -0.30290711  0.2024933 ]\n"
          ],
          "name": "stdout"
        },
        {
          "output_type": "stream",
          "text": [
            "\n"
          ],
          "name": "stderr"
        }
      ]
    },
    {
      "cell_type": "code",
      "metadata": {
        "id": "LMWUP5jt3OcQ",
        "colab_type": "code",
        "outputId": "66855404-b88b-45a2-c5ae-8e46355daec0",
        "colab": {
          "base_uri": "https://localhost:8080/",
          "height": 201
        }
      },
      "source": [
        "i=0\n",
        "list_of_sentance_test=[]\n",
        "for sentance in X_test:\n",
        "    list_of_sentance_test.append(sentance.split())\n",
        "# average Word2Vec\n",
        "# compute average word2vec for each review.\n",
        "sent_vectors_test = []; # the avg-w2v for each sentence/review is stored in this list\n",
        "for sent in tqdm(list_of_sentance_test): # for each review/sentence\n",
        "    sent_vec = np.zeros(50) # as word vectors are of zero length 50, you might need to change this to 300 if you use google's w2v\n",
        "    cnt_words =0; # num of words with a valid vector in the sentence/review\n",
        "    for word in sent: # for each word in a review/sentence\n",
        "        if word in w2v_words:\n",
        "            vec = w2v_model.wv[word]\n",
        "            sent_vec += vec\n",
        "            cnt_words += 1\n",
        "    if cnt_words != 0:\n",
        "        sent_vec /= cnt_words\n",
        "    sent_vectors_test.append(sent_vec)\n",
        "sent_vectors_test = np.array(sent_vectors_test)\n",
        "print(sent_vectors_test.shape)\n",
        "print(sent_vectors_test[0])"
      ],
      "execution_count": 0,
      "outputs": [
        {
          "output_type": "stream",
          "text": [
            "100%|██████████| 1913/1913 [00:01<00:00, 1192.95it/s]"
          ],
          "name": "stderr"
        },
        {
          "output_type": "stream",
          "text": [
            "(1913, 50)\n",
            "[ 0.28858792  0.37858321 -0.12544506 -0.56509752  0.76168258  0.32876971\n",
            " -0.43718037  0.38966323  0.55431691 -0.82196037 -0.39892155  0.04997526\n",
            " -0.08602379  0.17722039 -0.21239705  0.20358674  0.35966479  0.60874934\n",
            "  0.20076793 -0.43223627  0.40745849 -0.22756575 -0.0557838   0.09848863\n",
            "  0.45509606  0.04181786  0.46985418  0.25304826  0.09987237  0.35565114\n",
            "  0.66837579  0.04476445 -0.04276118 -0.10122381 -0.07767435  0.01714024\n",
            " -0.48282704 -0.56370069 -0.02358113 -0.71599302  0.23756929 -0.14163785\n",
            "  0.51932034  0.16756623  0.13181796 -0.1157634  -0.6062095   0.29229909\n",
            " -0.30290711  0.2024933 ]\n"
          ],
          "name": "stdout"
        },
        {
          "output_type": "stream",
          "text": [
            "\n"
          ],
          "name": "stderr"
        }
      ]
    },
    {
      "cell_type": "code",
      "metadata": {
        "id": "vSX7Yy8F3RgH",
        "colab_type": "code",
        "outputId": "e1ea0ef0-5800-4784-8bd2-9d50a82b89e6",
        "colab": {
          "base_uri": "https://localhost:8080/",
          "height": 294
        }
      },
      "source": [
        "train_auc = []\n",
        "cv_auc = []\n",
        "K = list(range(1,150,10))\n",
        "for i in K:\n",
        "    neigh = KNeighborsClassifier(n_neighbors=i, algorithm='brute')\n",
        "    neigh.fit(sent_vectors_train, Y_train)\n",
        "    # roc_auc_score(y_true, y_score) the 2nd parameter should be probability estimates of the positive class\n",
        "    # not the predicted outputs\n",
        "    Y_train_pred =  neigh.predict_proba(sent_vectors_train)[:,1]\n",
        "    Y_cv_pred =  neigh.predict_proba(sent_vectors_cv)[:,1]\n",
        "    \n",
        "    train_auc.append(roc_auc_score(Y_train,Y_train_pred))\n",
        "    cv_auc.append(roc_auc_score(Y_cv, Y_cv_pred))\n",
        "\n",
        "plt.plot(K, train_auc, label='Train AUC')\n",
        "plt.scatter(K, train_auc, label='Train AUC')\n",
        "plt.plot(K, cv_auc, label='CV AUC')\n",
        "plt.scatter(K, cv_auc, label='CV AUC')\n",
        "plt.legend()\n",
        "plt.xlabel(\"K: hyperparameter\")\n",
        "plt.ylabel(\"AUC\")\n",
        "plt.title(\"ERROR PLOTS\")\n",
        "plt.show()"
      ],
      "execution_count": 0,
      "outputs": [
        {
          "output_type": "display_data",
          "data": {
            "image/png": "[encoded data removed]",
            "text/plain": [
              "<Figure size 432x288 with 1 Axes>"
            ]
          },
          "metadata": {
            "tags": []
          }
        }
      ]
    },
    {
      "cell_type": "code",
      "metadata": {
        "id": "gu_tqlCE3ULh",
        "colab_type": "code",
        "outputId": "488b908f-ed50-4107-da3d-5e032e2a53b0",
        "colab": {
          "base_uri": "https://localhost:8080/",
          "height": 33
        }
      },
      "source": [
        "neighbors = list(range(31,45, 2))\n",
        "cv_score = []\n",
        "for k in tqdm(neighbors):\n",
        "    knn = KNeighborsClassifier(n_neighbors=k, algorithm='brute')\n",
        "    scores = cross_val_score(knn, sent_vectors_train, Y_train, cv=10, scoring='f1')\n",
        "    cv_score.append(scores.mean())"
      ],
      "execution_count": 0,
      "outputs": [
        {
          "output_type": "stream",
          "text": [
            "100%|██████████| 7/7 [00:12<00:00,  1.74s/it]\n"
          ],
          "name": "stderr"
        }
      ]
    },
    {
      "cell_type": "code",
      "metadata": {
        "id": "OOv2GGGF3WxE",
        "colab_type": "code",
        "outputId": "dd59f971-2676-4538-f32b-c0f77d026123",
        "colab": {
          "base_uri": "https://localhost:8080/",
          "height": 378
        }
      },
      "source": [
        "MSE = [1 - x for x in cv_score]\n",
        "optimal_k3 = neighbors[MSE.index(min(MSE))]\n",
        "print(\"_\" * 101)\n",
        "print(\"Optimal number of neighbors: \", optimal_k3)\n",
        "print(\"_\" * 101)\n",
        "print(\"Missclassification error for each k values: \", np.round(MSE, 3))\n",
        "print(\"_\" * 101)\n",
        "\n",
        "plt.plot(neighbors, MSE)\n",
        "plt.title(\"Number of neighbors and error\")\n",
        "plt.xlabel(\"Number of neighbors\")\n",
        "plt.ylabel(\"Missclassification error\")\n",
        "plt.show()"
      ],
      "execution_count": 0,
      "outputs": [
        {
          "output_type": "stream",
          "text": [
            "_____________________________________________________________________________________________________\n",
            "Optimal number of neighbors:  39\n",
            "_____________________________________________________________________________________________________\n",
            "Missclassification error for each k values:  [0.092 0.092 0.092 0.092 0.092 0.092 0.092]\n",
            "_____________________________________________________________________________________________________\n"
          ],
          "name": "stdout"
        },
        {
          "output_type": "display_data",
          "data": {
            "image/png": "[encoded data removed]",
            "text/plain": [
              "<Figure size 432x288 with 1 Axes>"
            ]
          },
          "metadata": {
            "tags": []
          }
        }
      ]
    },
    {
      "cell_type": "code",
      "metadata": {
        "id": "tOPAimas3Zrw",
        "colab_type": "code",
        "colab": {}
      },
      "source": [
        "optimal_model = KNeighborsClassifier(n_neighbors=optimal_k3, algorithm='brute')\n",
        "optimal_model.fit(sent_vectors_train, Y_train)\n",
        "prediction = optimal_model.predict(sent_vectors_test)"
      ],
      "execution_count": 0,
      "outputs": []
    },
    {
      "cell_type": "code",
      "metadata": {
        "id": "2MvtZGrA3cMa",
        "colab_type": "code",
        "outputId": "f9e795a8-68ec-46bc-d1c3-5dec1f7b9a61",
        "colab": {
          "base_uri": "https://localhost:8080/",
          "height": 294
        }
      },
      "source": [
        "train_fpr, train_tpr, thresholds = roc_curve(Y_train, optimal_model.predict_proba(sent_vectors_train)[:,1])\n",
        "test_fpr, test_tpr, thresholds = roc_curve(Y_test, optimal_model.predict_proba(sent_vectors_test)[:,1])\n",
        "AUC3=str(auc(test_fpr, test_tpr))\n",
        "plt.plot(train_fpr, train_tpr, label=\"train AUC =\"+str(auc(train_fpr, train_tpr)))\n",
        "plt.plot(test_fpr, test_tpr, label=\"test AUC =\"+str(auc(test_fpr, test_tpr)))\n",
        "plt.legend()\n",
        "plt.xlabel(\"K: hyperparameter\")\n",
        "plt.ylabel(\"AUC\")\n",
        "plt.title(\"ERROR PLOTS\")\n",
        "plt.show()"
      ],
      "execution_count": 0,
      "outputs": [
        {
          "output_type": "display_data",
          "data": {
            "image/png": "[encoded data removed]",
            "text/plain": [
              "<Figure size 432x288 with 1 Axes>"
            ]
          },
          "metadata": {
            "tags": []
          }
        }
      ]
    },
    {
      "cell_type": "code",
      "metadata": {
        "id": "S3lUgN1t3ewW",
        "colab_type": "code",
        "outputId": "1d67c9c7-9314-49ca-cd6b-d29f2357f120",
        "colab": {
          "base_uri": "https://localhost:8080/",
          "height": 117
        }
      },
      "source": [
        "training_accuracy = optimal_model.score(sent_vectors_train, Y_train)\n",
        "training_error = 1 - training_accuracy\n",
        "test_accuracy = accuracy_score(Y_test, prediction)\n",
        "test_error = 1 - test_accuracy\n",
        "\n",
        "\n",
        "print(\"_\" * 101)\n",
        "print(\"Training Accuracy: \", training_accuracy)\n",
        "print(\"Train Error: \", training_error)\n",
        "print(\"Test Accuracy: \", test_accuracy)\n",
        "print(\"Test Error: \", test_error)\n",
        "print(\"_\" * 101)"
      ],
      "execution_count": 0,
      "outputs": [
        {
          "output_type": "stream",
          "text": [
            "_____________________________________________________________________________________________________\n",
            "Training Accuracy:  0.8334858188472095\n",
            "Train Error:  0.16651418115279049\n",
            "Test Accuracy:  0.8421327757449033\n",
            "Test Error:  0.1578672242550967\n",
            "_____________________________________________________________________________________________________\n"
          ],
          "name": "stdout"
        }
      ]
    },
    {
      "cell_type": "code",
      "metadata": {
        "id": "b7Cw5FC43hPl",
        "colab_type": "code",
        "outputId": "826af5b3-5a6d-485c-944a-df5c572e4978",
        "colab": {
          "base_uri": "https://localhost:8080/",
          "height": 311
        }
      },
      "source": [
        "import seaborn as sb\n",
        "conf_matrix = confusion_matrix(Y_test, optimal_model.predict(sent_vectors_test))\n",
        "class_label = [0, 1]\n",
        "df_conf_matrix = pd.DataFrame(\n",
        "    conf_matrix, index=class_label, columns=class_label)\n",
        "sb.heatmap(df_conf_matrix, annot=True, fmt='d')\n",
        "plt.title(\"Confusion Matrix\")\n",
        "plt.xlabel(\"Predicted\")\n",
        "plt.ylabel(\"Actual\")\n",
        "plt.show()\n",
        "print(\"_\" * 101)"
      ],
      "execution_count": 0,
      "outputs": [
        {
          "output_type": "display_data",
          "data": {
            "image/png": "[encoded data removed]",
            "text/plain": [
              "<Figure size 432x288 with 2 Axes>"
            ]
          },
          "metadata": {
            "tags": []
          }
        },
        {
          "output_type": "stream",
          "text": [
            "_____________________________________________________________________________________________________\n"
          ],
          "name": "stdout"
        }
      ]
    },
    {
      "cell_type": "code",
      "metadata": {
        "id": "7TuNkNc23ju6",
        "colab_type": "code",
        "outputId": "5dfccbd0-e3bc-4cae-ab6c-ee351fc74a1e",
        "colab": {
          "base_uri": "https://localhost:8080/",
          "height": 167
        }
      },
      "source": [
        "from sklearn.metrics import classification_report\n",
        "print(classification_report(Y_test, prediction))"
      ],
      "execution_count": 0,
      "outputs": [
        {
          "output_type": "stream",
          "text": [
            "              precision    recall  f1-score   support\n",
            "\n",
            "           0       0.60      0.01      0.02       303\n",
            "           1       0.84      1.00      0.91      1610\n",
            "\n",
            "    accuracy                           0.84      1913\n",
            "   macro avg       0.72      0.50      0.47      1913\n",
            "weighted avg       0.80      0.84      0.77      1913\n",
            "\n"
          ],
          "name": "stdout"
        }
      ]
    },
    {
      "cell_type": "markdown",
      "metadata": {
        "id": "WFztBPLuWsuM",
        "colab_type": "text"
      },
      "source": [
        "### [5.1.4] Applying KNN brute force on TFIDF W2V,<font color='red'> SET 4</font>"
      ]
    },
    {
      "cell_type": "code",
      "metadata": {
        "scrolled": true,
        "colab_type": "code",
        "id": "5lSuC3HI5qKF",
        "colab": {}
      },
      "source": [
        "model = TfidfVectorizer()\n",
        "tf_idf_matrix = model.fit(X_train)\n",
        "# we are converting a dictionary with word as a key, and the idf as a value\n",
        "dictionary = dict(zip(model.get_feature_names(), list(model.idf_)))"
      ],
      "execution_count": 0,
      "outputs": []
    },
    {
      "cell_type": "code",
      "metadata": {
        "colab_type": "code",
        "outputId": "e7d1f0fe-34a7-4a53-e7f0-176fcfc11740",
        "id": "vCKrRz3V5qKN",
        "colab": {
          "base_uri": "https://localhost:8080/",
          "height": 33
        }
      },
      "source": [
        "i=0\n",
        "list_of_sentance_train=[]\n",
        "for sentance in X_train:\n",
        "    list_of_sentance_train.append(sentance.split())\n",
        "tfidf_feat = tf_idf_vect.get_feature_names() # tfidf words/col-names\n",
        "# final_tf_idf is the sparse matrix with row= sentence, col=word and cell_val = tfidf\n",
        "\n",
        "tfidf_sent_vectors_train = []; # the tfidf-w2v for each sentence/review is stored in this list\n",
        "row=0;\n",
        "for sent in tqdm(list_of_sentance_train): # for each review/sentence \n",
        "    sent_vec = np.zeros(50) # as word vectors are of zero length\n",
        "    weight_sum =0; # num of words with a valid vector in the sentence/review\n",
        "    for word in sent: # for each word in a review/sentence\n",
        "        if word in w2v_words and word in tfidf_feat:\n",
        "            vec = w2v_model.wv[word]\n",
        "#             tf_idf = tf_idf_matrix[row, tfidf_feat.index(word)]\n",
        "            # to reduce the computation we are \n",
        "            # dictionary[word] = idf value of word in whole courpus\n",
        "            # sent.count(word) = tf valeus of word in this review\n",
        "            tf_idf = dictionary[word]*(sent.count(word)/len(sent))\n",
        "            sent_vec += (vec * tf_idf)\n",
        "            weight_sum += tf_idf\n",
        "    if weight_sum != 0:\n",
        "        sent_vec /= weight_sum\n",
        "    tfidf_sent_vectors_train.append(sent_vec)\n",
        "    row += 1"
      ],
      "execution_count": 0,
      "outputs": [
        {
          "output_type": "stream",
          "text": [
            "100%|██████████| 7651/7651 [00:42<00:00, 180.44it/s]\n"
          ],
          "name": "stderr"
        }
      ]
    },
    {
      "cell_type": "code",
      "metadata": {
        "id": "Eaj0H-2WWsuN",
        "colab_type": "code",
        "outputId": "d47eb9c7-cf2d-44e7-cc9c-e9fbafd90832",
        "colab": {
          "base_uri": "https://localhost:8080/",
          "height": 33
        }
      },
      "source": [
        "i=0\n",
        "list_of_sentance_cv=[]\n",
        "for sentance in X_cv:\n",
        "    list_of_sentance_cv.append(sentance.split())\n",
        "tfidf_feat = tf_idf_vect.get_feature_names() # tfidf words/col-names\n",
        "# final_tf_idf is the sparse matrix with row= sentence, col=word and cell_val = tfidf\n",
        "\n",
        "tfidf_sent_vectors_cv = []; # the tfidf-w2v for each sentence/review is stored in this list\n",
        "row=0;\n",
        "for sent in tqdm(list_of_sentance_cv): # for each review/sentence \n",
        "    sent_vec = np.zeros(50) # as word vectors are of zero length\n",
        "    weight_sum =0; # num of words with a valid vector in the sentence/review\n",
        "    for word in sent: # for each word in a review/sentence\n",
        "        if word in w2v_words and word in tfidf_feat:\n",
        "            vec = w2v_model.wv[word]\n",
        "#             tf_idf = tf_idf_matrix[row, tfidf_feat.index(word)]\n",
        "            # to reduce the computation we are \n",
        "            # dictionary[word] = idf value of word in whole courpus\n",
        "            # sent.count(word) = tf valeus of word in this review\n",
        "            tf_idf = dictionary[word]*(sent.count(word)/len(sent))\n",
        "            sent_vec += (vec * tf_idf)\n",
        "            weight_sum += tf_idf\n",
        "    if weight_sum != 0:\n",
        "        sent_vec /= weight_sum\n",
        "    tfidf_sent_vectors_cv.append(sent_vec)\n",
        "    row += 1"
      ],
      "execution_count": 0,
      "outputs": [
        {
          "output_type": "stream",
          "text": [
            "100%|██████████| 1913/1913 [00:10<00:00, 176.89it/s]\n"
          ],
          "name": "stderr"
        }
      ]
    },
    {
      "cell_type": "code",
      "metadata": {
        "id": "VrfsgVnx4Gsz",
        "colab_type": "code",
        "outputId": "62318a0d-e2aa-426b-fc80-f1b6a44b4588",
        "colab": {
          "base_uri": "https://localhost:8080/",
          "height": 33
        }
      },
      "source": [
        "i=0\n",
        "list_of_sentance_test=[]\n",
        "for sentance in X_test:\n",
        "    list_of_sentance_test.append(sentance.split())\n",
        "tfidf_feat = tf_idf_vect.get_feature_names() # tfidf words/col-names\n",
        "# final_tf_idf is the sparse matrix with row= sentence, col=word and cell_val = tfidf\n",
        "\n",
        "tfidf_sent_vectors_test = []; # the tfidf-w2v for each sentence/review is stored in this list\n",
        "row=0;\n",
        "for sent in tqdm(list_of_sentance_test): # for each review/sentence \n",
        "    sent_vec = np.zeros(50) # as word vectors are of zero length\n",
        "    weight_sum =0; # num of words with a valid vector in the sentence/review\n",
        "    for word in sent: # for each word in a review/sentence\n",
        "        if word in w2v_words and word in tfidf_feat:\n",
        "            vec = w2v_model.wv[word]\n",
        "#             tf_idf = tf_idf_matrix[row, tfidf_feat.index(word)]\n",
        "            # to reduce the computation we are \n",
        "            # dictionary[word] = idf value of word in whole courpus\n",
        "            # sent.count(word) = tf valeus of word in this review\n",
        "            tf_idf = dictionary[word]*(sent.count(word)/len(sent))\n",
        "            sent_vec += (vec * tf_idf)\n",
        "            weight_sum += tf_idf\n",
        "    if weight_sum != 0:\n",
        "        sent_vec /= weight_sum\n",
        "    tfidf_sent_vectors_test.append(sent_vec)\n",
        "    row += 1"
      ],
      "execution_count": 0,
      "outputs": [
        {
          "output_type": "stream",
          "text": [
            "100%|██████████| 1913/1913 [00:10<00:00, 176.42it/s]\n"
          ],
          "name": "stderr"
        }
      ]
    },
    {
      "cell_type": "code",
      "metadata": {
        "id": "x8oh7Aae4Jq0",
        "colab_type": "code",
        "outputId": "ac6ebf75-a4bc-498f-c711-4c83b008e755",
        "colab": {
          "base_uri": "https://localhost:8080/",
          "height": 294
        }
      },
      "source": [
        "train_auc = []\n",
        "cv_auc = []\n",
        "K = list(range(1,150,10))\n",
        "for i in K:\n",
        "    neigh = KNeighborsClassifier(n_neighbors=i, algorithm='brute')\n",
        "    neigh.fit(tfidf_sent_vectors_train, Y_train)\n",
        "    # roc_auc_score(y_true, y_score) the 2nd parameter should be probability estimates of the positive class\n",
        "    # not the predicted outputs\n",
        "    Y_train_pred =  neigh.predict_proba(tfidf_sent_vectors_train)[:,1]\n",
        "    Y_cv_pred =  neigh.predict_proba(tfidf_sent_vectors_cv)[:,1]\n",
        "    \n",
        "    train_auc.append(roc_auc_score(Y_train,Y_train_pred))\n",
        "    cv_auc.append(roc_auc_score(Y_cv, Y_cv_pred))\n",
        "\n",
        "plt.plot(K, train_auc, label='Train AUC')\n",
        "plt.scatter(K, train_auc, label='Train AUC')\n",
        "plt.plot(K, cv_auc, label='CV AUC')\n",
        "plt.scatter(K, cv_auc, label='CV AUC')\n",
        "plt.legend()\n",
        "plt.xlabel(\"K: hyperparameter\")\n",
        "plt.ylabel(\"AUC\")\n",
        "plt.title(\"ERROR PLOTS\")\n",
        "plt.show()"
      ],
      "execution_count": 0,
      "outputs": [
        {
          "output_type": "display_data",
          "data": {
            "image/png": "[encoded data removed]",
            "text/plain": [
              "<Figure size 432x288 with 1 Axes>"
            ]
          },
          "metadata": {
            "tags": []
          }
        }
      ]
    },
    {
      "cell_type": "code",
      "metadata": {
        "id": "iAYZYqOu4MVe",
        "colab_type": "code",
        "outputId": "3ea0a8f4-a05b-45c1-81d6-7bef9c8d6c23",
        "colab": {
          "base_uri": "https://localhost:8080/",
          "height": 33
        }
      },
      "source": [
        "neighbors = list(range(21, 50, 2))\n",
        "cv_score = []\n",
        "for k in tqdm(neighbors):\n",
        "    knn = KNeighborsClassifier(n_neighbors=k, algorithm='brute')\n",
        "    scores = cross_val_score(knn, tfidf_sent_vectors_train, Y_train, cv=10, scoring='f1')\n",
        "    cv_score.append(scores.mean())"
      ],
      "execution_count": 0,
      "outputs": [
        {
          "output_type": "stream",
          "text": [
            "100%|██████████| 15/15 [00:26<00:00,  1.80s/it]\n"
          ],
          "name": "stderr"
        }
      ]
    },
    {
      "cell_type": "code",
      "metadata": {
        "id": "TiMYm2f34O5k",
        "colab_type": "code",
        "outputId": "759d122b-264e-4691-d634-3306538433cd",
        "colab": {
          "base_uri": "https://localhost:8080/",
          "height": 395
        }
      },
      "source": [
        "MSE = [1 - x for x in cv_score]\n",
        "optimal_k4 = neighbors[MSE.index(min(MSE))]\n",
        "print(\"_\" * 101)\n",
        "print(\"Optimal number of neighbors: \", optimal_k4)\n",
        "print(\"_\" * 101)\n",
        "print(\"Missclassification error for each k values: \", np.round(MSE, 3))\n",
        "print(\"_\" * 101)\n",
        "\n",
        "plt.plot(neighbors, MSE)\n",
        "plt.title(\"Number of neighbors and error\")\n",
        "plt.xlabel(\"Number of neighbors\")\n",
        "plt.ylabel(\"Missclassification error\")\n",
        "plt.show()"
      ],
      "execution_count": 0,
      "outputs": [
        {
          "output_type": "stream",
          "text": [
            "_____________________________________________________________________________________________________\n",
            "Optimal number of neighbors:  45\n",
            "_____________________________________________________________________________________________________\n",
            "Missclassification error for each k values:  [0.093 0.092 0.092 0.092 0.092 0.091 0.092 0.092 0.092 0.091 0.092 0.091\n",
            " 0.091 0.091 0.091]\n",
            "_____________________________________________________________________________________________________\n"
          ],
          "name": "stdout"
        },
        {
          "output_type": "display_data",
          "data": {
            "image/png": "[encoded data removed]",
            "text/plain": [
              "<Figure size 432x288 with 1 Axes>"
            ]
          },
          "metadata": {
            "tags": []
          }
        }
      ]
    },
    {
      "cell_type": "code",
      "metadata": {
        "id": "U_WciGXP4Rw8",
        "colab_type": "code",
        "colab": {}
      },
      "source": [
        "optimal_model = KNeighborsClassifier(n_neighbors=optimal_k4, algorithm='brute')\n",
        "optimal_model.fit(tfidf_sent_vectors_train, Y_train)\n",
        "prediction = optimal_model.predict(tfidf_sent_vectors_test)"
      ],
      "execution_count": 0,
      "outputs": []
    },
    {
      "cell_type": "code",
      "metadata": {
        "id": "k8g80sLo4Ugi",
        "colab_type": "code",
        "outputId": "fa8f45bb-b13f-4350-9c27-ed44be91a725",
        "colab": {
          "base_uri": "https://localhost:8080/",
          "height": 294
        }
      },
      "source": [
        "train_fpr, train_tpr, thresholds = roc_curve(Y_train, optimal_model.predict_proba(tfidf_sent_vectors_train)[:,1])\n",
        "test_fpr, test_tpr, thresholds = roc_curve(Y_test, optimal_model.predict_proba(tfidf_sent_vectors_test)[:,1])\n",
        "AUC4=str(auc(test_fpr, test_tpr))\n",
        "plt.plot(train_fpr, train_tpr, label=\"train AUC =\"+str(auc(train_fpr, train_tpr)))\n",
        "plt.plot(test_fpr, test_tpr, label=\"test AUC =\"+str(auc(test_fpr, test_tpr)))\n",
        "plt.legend()\n",
        "plt.xlabel(\"K: hyperparameter\")\n",
        "plt.ylabel(\"AUC\")\n",
        "plt.title(\"ERROR PLOTS\")\n",
        "plt.show()"
      ],
      "execution_count": 0,
      "outputs": [
        {
          "output_type": "display_data",
          "data": {
            "image/png": "[encoded data removed]",
            "text/plain": [
              "<Figure size 432x288 with 1 Axes>"
            ]
          },
          "metadata": {
            "tags": []
          }
        }
      ]
    },
    {
      "cell_type": "code",
      "metadata": {
        "id": "sjEaAYBw4XQb",
        "colab_type": "code",
        "outputId": "2a8e578b-b83d-4360-d105-655eadca0c6c",
        "colab": {
          "base_uri": "https://localhost:8080/",
          "height": 117
        }
      },
      "source": [
        "training_accuracy = optimal_model.score(tfidf_sent_vectors_train, Y_train)\n",
        "training_error = 1 - training_accuracy\n",
        "test_accuracy = accuracy_score(Y_test, prediction)\n",
        "test_error = 1 - test_accuracy\n",
        "\n",
        "\n",
        "print(\"_\" * 101)\n",
        "print(\"Training Accuracy: \", training_accuracy)\n",
        "print(\"Train Error: \", training_error)\n",
        "print(\"Test Accuracy: \", test_accuracy)\n",
        "print(\"Test Error: \", test_error)\n",
        "print(\"_\" * 101)\n",
        "\n",
        "import seaborn as sb"
      ],
      "execution_count": 0,
      "outputs": [
        {
          "output_type": "stream",
          "text": [
            "_____________________________________________________________________________________________________\n",
            "Training Accuracy:  0.8329630113710627\n",
            "Train Error:  0.16703698862893734\n",
            "Test Accuracy:  0.8405645582854155\n",
            "Test Error:  0.15943544171458446\n",
            "_____________________________________________________________________________________________________\n"
          ],
          "name": "stdout"
        }
      ]
    },
    {
      "cell_type": "code",
      "metadata": {
        "id": "lwDGpveM4Z0M",
        "colab_type": "code",
        "outputId": "6152d567-ed4c-4b94-cefc-421cc74d802f",
        "colab": {
          "base_uri": "https://localhost:8080/",
          "height": 311
        }
      },
      "source": [
        "conf_matrix = confusion_matrix(Y_test, optimal_model.predict(tfidf_sent_vectors_test))\n",
        "class_label = [0, 1]\n",
        "df_conf_matrix = pd.DataFrame(\n",
        "    conf_matrix, index=class_label, columns=class_label)\n",
        "sb.heatmap(df_conf_matrix, annot=True, fmt='d')\n",
        "plt.title(\"Confusion Matrix\")\n",
        "plt.xlabel(\"Predicted\")\n",
        "plt.ylabel(\"Actual\")\n",
        "plt.show()\n",
        "print(\"_\" * 101)"
      ],
      "execution_count": 0,
      "outputs": [
        {
          "output_type": "display_data",
          "data": {
            "image/png": "[encoded data removed]",
            "text/plain": [
              "<Figure size 432x288 with 2 Axes>"
            ]
          },
          "metadata": {
            "tags": []
          }
        },
        {
          "output_type": "stream",
          "text": [
            "_____________________________________________________________________________________________________\n"
          ],
          "name": "stdout"
        }
      ]
    },
    {
      "cell_type": "code",
      "metadata": {
        "id": "W8JzH5XW4dfv",
        "colab_type": "code",
        "outputId": "74a01053-f28d-46a5-ac82-d7189d838e21",
        "colab": {
          "base_uri": "https://localhost:8080/",
          "height": 167
        }
      },
      "source": [
        "from sklearn.metrics import classification_report\n",
        "print(classification_report(Y_test, prediction))"
      ],
      "execution_count": 0,
      "outputs": [
        {
          "output_type": "stream",
          "text": [
            "              precision    recall  f1-score   support\n",
            "\n",
            "           0       0.25      0.00      0.01       303\n",
            "           1       0.84      1.00      0.91      1610\n",
            "\n",
            "    accuracy                           0.84      1913\n",
            "   macro avg       0.55      0.50      0.46      1913\n",
            "weighted avg       0.75      0.84      0.77      1913\n",
            "\n"
          ],
          "name": "stdout"
        }
      ]
    },
    {
      "cell_type": "markdown",
      "metadata": {
        "id": "ytRojYj3WsuQ",
        "colab_type": "text"
      },
      "source": [
        "## [5.2] Applying KNN kd-tree"
      ]
    },
    {
      "cell_type": "markdown",
      "metadata": {
        "id": "--kFIs1rWsuR",
        "colab_type": "text"
      },
      "source": [
        "### [5.2.1] Applying KNN kd-tree on BOW,<font color='red'> SET 5</font>"
      ]
    },
    {
      "cell_type": "code",
      "metadata": {
        "id": "fp4nZ7GPxjVR",
        "colab_type": "code",
        "outputId": "73a71b82-dcb7-4ecf-ad04-3ed3b00085ad",
        "colab": {
          "base_uri": "https://localhost:8080/",
          "height": 84
        }
      },
      "source": [
        "data_pos1 = final[final[\"Score\"] == 1].sample(n = 1000)\n",
        "data_neg1 = final[final[\"Score\"] == 0].sample(n = 1000)\n",
        "final2 = pd.concat([data_pos1, data_neg1])\n",
        "final2.shape\n",
        "\n",
        "B = final2['Score'].values\n",
        "A = final2['cleaned_text'].values\n",
        "print(B.shape)\n",
        "print(type(B))\n",
        "print(A.shape)\n",
        "print(type(B))"
      ],
      "execution_count": 0,
      "outputs": [
        {
          "output_type": "stream",
          "text": [
            "(2000,)\n",
            "<class 'numpy.ndarray'>\n",
            "(2000,)\n",
            "<class 'numpy.ndarray'>\n"
          ],
          "name": "stdout"
        }
      ]
    },
    {
      "cell_type": "code",
      "metadata": {
        "id": "3JrYpCrix2_a",
        "colab_type": "code",
        "outputId": "37a942a6-a3e9-43e6-f1e7-c742a31adad1",
        "colab": {
          "base_uri": "https://localhost:8080/",
          "height": 100
        }
      },
      "source": [
        "A_train,A_test,B_train,B_test=train_test_split(A,B,test_size=0.2,random_state=12)\n",
        "A_train,A_cv,B_train,B_cv=train_test_split(A,B,test_size=0.2,random_state=12)\n",
        "print('='*100)\n",
        "print(\"After splitting\")\n",
        "print(A_train.shape,B_train.shape)\n",
        "print(A_cv.shape,B_cv.shape)\n",
        "print(A_test.shape,B_test.shape)"
      ],
      "execution_count": 0,
      "outputs": [
        {
          "output_type": "stream",
          "text": [
            "====================================================================================================\n",
            "After splitting\n",
            "(1600,) (1600,)\n",
            "(400,) (400,)\n",
            "(400,) (400,)\n"
          ],
          "name": "stdout"
        }
      ]
    },
    {
      "cell_type": "code",
      "metadata": {
        "id": "6H89-teIx5oa",
        "colab_type": "code",
        "outputId": "606296e8-b1d1-4bd1-cf0e-87584667ecf0",
        "colab": {
          "base_uri": "https://localhost:8080/",
          "height": 100
        }
      },
      "source": [
        "vectorizer=CountVectorizer(min_df=10, max_features=500)\n",
        "vectorizer=vectorizer.fit(A_train)\n",
        "A_train_bow_kdtree=vectorizer.transform(A_train)\n",
        "A_cv_bow_kdtree=vectorizer.transform(A_cv)\n",
        "A_test_bow_kdtree=vectorizer.transform(A_test)\n",
        "print('='*100)\n",
        "print(\"After transform\")\n",
        "print(A_train_bow_kdtree.shape,B_train.shape)\n",
        "print(A_cv_bow_kdtree.shape,B_cv.shape)\n",
        "print(A_test_bow_kdtree.shape,B_cv.shape)"
      ],
      "execution_count": 0,
      "outputs": [
        {
          "output_type": "stream",
          "text": [
            "====================================================================================================\n",
            "After transform\n",
            "(1600, 500) (1600,)\n",
            "(400, 500) (400,)\n",
            "(400, 500) (400,)\n"
          ],
          "name": "stdout"
        }
      ]
    },
    {
      "cell_type": "code",
      "metadata": {
        "id": "u9Dxxlsdx82F",
        "colab_type": "code",
        "outputId": "30ffa85b-5e74-437b-c24e-03e15484e252",
        "colab": {
          "base_uri": "https://localhost:8080/",
          "height": 294
        }
      },
      "source": [
        "train_auc = []\n",
        "cv_auc = []\n",
        "K = list(range(1,200,10))\n",
        "for i in K:\n",
        "    neigh = KNeighborsClassifier(n_neighbors=i, algorithm='kd_tree')\n",
        "    neigh.fit(A_train_bow_kdtree.todense(), B_train)\n",
        "    # roc_auc_score(y_true, y_score) the 2nd parameter should be probability estimates of the positive class\n",
        "    # not the predicted outputs\n",
        "    B_train_pred =  neigh.predict_proba(A_train_bow_kdtree.todense())[:,1]\n",
        "    B_cv_pred =  neigh.predict_proba(A_cv_bow_kdtree.todense())[:,1]\n",
        "    \n",
        "    train_auc.append(roc_auc_score(B_train,B_train_pred))\n",
        "    cv_auc.append(roc_auc_score(B_cv, B_cv_pred))\n",
        "\n",
        "plt.plot(K, train_auc, label='Train AUC')\n",
        "plt.scatter(K, train_auc, label='Train AUC')\n",
        "plt.plot(K, cv_auc, label='CV AUC')\n",
        "plt.scatter(K, cv_auc, label='CV AUC')\n",
        "plt.legend()\n",
        "plt.xlabel(\"K: hyperparameter\")\n",
        "plt.ylabel(\"AUC\")\n",
        "plt.title(\"ERROR PLOTS\")\n",
        "plt.show()"
      ],
      "execution_count": 0,
      "outputs": [
        {
          "output_type": "display_data",
          "data": {
            "image/png": "[encoded data removed]",
            "text/plain": [
              "<Figure size 432x288 with 1 Axes>"
            ]
          },
          "metadata": {
            "tags": []
          }
        }
      ]
    },
    {
      "cell_type": "code",
      "metadata": {
        "id": "ANPha32lyePz",
        "colab_type": "code",
        "outputId": "ecef2d31-b36a-4898-fc6f-69d426bfac72",
        "colab": {
          "base_uri": "https://localhost:8080/",
          "height": 33
        }
      },
      "source": [
        "from sklearn.model_selection import cross_val_score\n",
        "from sklearn.metrics import accuracy_score\n",
        "neighbors = list(range(31, 71, 2))\n",
        "cv_score = []\n",
        "for k in tqdm(neighbors):\n",
        "    knn = KNeighborsClassifier(n_neighbors=k, algorithm='kd_tree')\n",
        "    scores = cross_val_score(knn, A_train_bow_kdtree.todense(), B_train, cv=10, scoring='accuracy')\n",
        "    cv_score.append(scores.mean()) "
      ],
      "execution_count": 0,
      "outputs": [
        {
          "output_type": "stream",
          "text": [
            "100%|██████████| 20/20 [00:46<00:00,  2.31s/it]\n"
          ],
          "name": "stderr"
        }
      ]
    },
    {
      "cell_type": "code",
      "metadata": {
        "id": "UxcSrPoZygvY",
        "colab_type": "code",
        "outputId": "312e3587-61fa-42fb-a849-987f8d4104a3",
        "colab": {
          "base_uri": "https://localhost:8080/",
          "height": 395
        }
      },
      "source": [
        "MSE = [1 - x for x in cv_score]\n",
        "optimal_k5 = neighbors[MSE.index(min(MSE))]\n",
        "print(\"_\" * 101)\n",
        "print(\"Optimal number of neighbors: \", optimal_k5)\n",
        "print(\"_\" * 101)\n",
        "print(\"Missclassification error for each k values: \", np.round(MSE, 3))\n",
        "print(\"_\" * 101)\n",
        "\n",
        "plt.plot(neighbors, MSE)\n",
        "plt.title(\"Number of neighbors and error\")\n",
        "plt.xlabel(\"Number of neighbors\")\n",
        "plt.ylabel(\"Missclassification error\")\n",
        "plt.show()"
      ],
      "execution_count": 0,
      "outputs": [
        {
          "output_type": "stream",
          "text": [
            "_____________________________________________________________________________________________________\n",
            "Optimal number of neighbors:  55\n",
            "_____________________________________________________________________________________________________\n",
            "Missclassification error for each k values:  [0.291 0.289 0.292 0.301 0.289 0.29  0.287 0.285 0.289 0.285 0.285 0.284\n",
            " 0.282 0.287 0.287 0.285 0.289 0.294 0.286 0.286]\n",
            "_____________________________________________________________________________________________________\n"
          ],
          "name": "stdout"
        },
        {
          "output_type": "display_data",
          "data": {
            "image/png": "[encoded data removed]",
            "text/plain": [
              "<Figure size 432x288 with 1 Axes>"
            ]
          },
          "metadata": {
            "tags": []
          }
        }
      ]
    },
    {
      "cell_type": "code",
      "metadata": {
        "id": "oD1LXK1Dyj4y",
        "colab_type": "code",
        "colab": {}
      },
      "source": [
        "optimal_model = KNeighborsClassifier(n_neighbors=optimal_k5,algorithm='kd_tree')\n",
        "optimal_model.fit(A_train_bow_kdtree.todense(), B_train)\n",
        "prediction = optimal_model.predict(A_test_bow_kdtree.todense())"
      ],
      "execution_count": 0,
      "outputs": []
    },
    {
      "cell_type": "code",
      "metadata": {
        "id": "sOsPWtGrymQ6",
        "colab_type": "code",
        "outputId": "37d5e278-66c0-4e20-d770-cf17ea23f1e6",
        "colab": {
          "base_uri": "https://localhost:8080/",
          "height": 294
        }
      },
      "source": [
        "train_fpr, train_tpr, thresholds = roc_curve(B_train, optimal_model.predict_proba(A_train_bow_kdtree.todense())[:,1])\n",
        "test_fpr, test_tpr, thresholds = roc_curve(B_test, optimal_model.predict_proba(A_test_bow_kdtree.todense())[:,1])\n",
        "AUC5=str(auc(test_fpr, test_tpr))\n",
        "plt.plot(train_fpr, train_tpr, label=\"train AUC =\"+str(auc(train_fpr, train_tpr)))\n",
        "plt.plot(test_fpr, test_tpr, label=\"test AUC =\"+str(auc(test_fpr, test_tpr)))\n",
        "plt.legend()\n",
        "plt.xlabel(\"K: hyperparameter\")\n",
        "plt.ylabel(\"AUC\")\n",
        "plt.title(\"ERROR PLOTS\")\n",
        "plt.show()"
      ],
      "execution_count": 0,
      "outputs": [
        {
          "output_type": "display_data",
          "data": {
            "image/png": "[encoded data removed]",
            "text/plain": [
              "<Figure size 432x288 with 1 Axes>"
            ]
          },
          "metadata": {
            "tags": []
          }
        }
      ]
    },
    {
      "cell_type": "code",
      "metadata": {
        "id": "Ie8jh3jqypOf",
        "colab_type": "code",
        "outputId": "b948c2cd-d51e-4b37-bcdf-8d7a4c876641",
        "colab": {
          "base_uri": "https://localhost:8080/",
          "height": 117
        }
      },
      "source": [
        "training_accuracy = optimal_model.score(A_train_bow_kdtree.todense(), B_train)\n",
        "training_error = 1 - training_accuracy\n",
        "test_accuracy = accuracy_score(B_test, prediction)\n",
        "test_error = 1 - test_accuracy\n",
        "\n",
        "\n",
        "print(\"_\" * 101)\n",
        "print(\"Training Accuracy: \", training_accuracy)\n",
        "print(\"Train Error: \", training_error)\n",
        "print(\"Test Accuracy: \", test_accuracy)\n",
        "print(\"Test Error: \", test_error)\n",
        "print(\"_\" * 101)"
      ],
      "execution_count": 0,
      "outputs": [
        {
          "output_type": "stream",
          "text": [
            "_____________________________________________________________________________________________________\n",
            "Training Accuracy:  0.740625\n",
            "Train Error:  0.259375\n",
            "Test Accuracy:  0.72\n",
            "Test Error:  0.28\n",
            "_____________________________________________________________________________________________________\n"
          ],
          "name": "stdout"
        }
      ]
    },
    {
      "cell_type": "code",
      "metadata": {
        "id": "DwmASqGnyr0S",
        "colab_type": "code",
        "outputId": "2c64844c-34cc-4e59-de8f-bf09f6c34626",
        "colab": {
          "base_uri": "https://localhost:8080/",
          "height": 311
        }
      },
      "source": [
        "import seaborn as sb\n",
        "conf_matrix = confusion_matrix(B_test, optimal_model.predict(A_test_bow_kdtree.todense()))\n",
        "class_label = [0, 1]\n",
        "df_conf_matrix = pd.DataFrame(\n",
        "    conf_matrix, index=class_label, columns=class_label)\n",
        "sb.heatmap(df_conf_matrix, annot=True, fmt='d')\n",
        "plt.title(\"Confusion Matrix\")\n",
        "plt.xlabel(\"Predicted\")\n",
        "plt.ylabel(\"Actual\")\n",
        "plt.show()\n",
        "print(\"_\" * 101)"
      ],
      "execution_count": 0,
      "outputs": [
        {
          "output_type": "display_data",
          "data": {
            "image/png": "[encoded data removed]",
            "text/plain": [
              "<Figure size 432x288 with 2 Axes>"
            ]
          },
          "metadata": {
            "tags": []
          }
        },
        {
          "output_type": "stream",
          "text": [
            "_____________________________________________________________________________________________________\n"
          ],
          "name": "stdout"
        }
      ]
    },
    {
      "cell_type": "code",
      "metadata": {
        "id": "dUv0YE91yulx",
        "colab_type": "code",
        "outputId": "b5747a90-1e6d-48a2-f55b-39934763f890",
        "colab": {
          "base_uri": "https://localhost:8080/",
          "height": 167
        }
      },
      "source": [
        "from sklearn.metrics import classification_report\n",
        "print(classification_report(B_test, prediction))"
      ],
      "execution_count": 0,
      "outputs": [
        {
          "output_type": "stream",
          "text": [
            "              precision    recall  f1-score   support\n",
            "\n",
            "           0       0.70      0.74      0.72       193\n",
            "           1       0.74      0.70      0.72       207\n",
            "\n",
            "    accuracy                           0.72       400\n",
            "   macro avg       0.72      0.72      0.72       400\n",
            "weighted avg       0.72      0.72      0.72       400\n",
            "\n"
          ],
          "name": "stdout"
        }
      ]
    },
    {
      "cell_type": "markdown",
      "metadata": {
        "id": "cN5BXcKEWsug",
        "colab_type": "text"
      },
      "source": [
        "### [5.2.2] Applying KNN kd-tree on TFIDF,<font color='red'> SET 6</font>"
      ]
    },
    {
      "cell_type": "code",
      "metadata": {
        "id": "VGlQjhvxWsuh",
        "colab_type": "code",
        "outputId": "3f0b183d-183b-4dfa-a996-b2ed95855fd0",
        "colab": {
          "base_uri": "https://localhost:8080/",
          "height": 33
        }
      },
      "source": [
        "# Please write all the code with proper documentation\n",
        "tf_idf_vect = TfidfVectorizer(ngram_range=(1,2), min_df=5, max_df=100)\n",
        "tf_idf_vect.fit(A_train)\n",
        "A_train_tfidf =tf_idf_vect.transform(A_train)\n",
        "A_cv_tfidf=tf_idf_vect.transform(A_cv)\n",
        "A_test_tfidf=tf_idf_vect.transform(A_test)\n",
        "print(A_train_tfidf.shape)"
      ],
      "execution_count": 0,
      "outputs": [
        {
          "output_type": "stream",
          "text": [
            "(1600, 2349)\n"
          ],
          "name": "stdout"
        }
      ]
    },
    {
      "cell_type": "code",
      "metadata": {
        "id": "ukI86Owyy3lb",
        "colab_type": "code",
        "outputId": "6d85760a-abf9-4896-acfc-1bb96ba9d1aa",
        "colab": {
          "base_uri": "https://localhost:8080/",
          "height": 294
        }
      },
      "source": [
        "train_auc = []\n",
        "cv_auc = []\n",
        "K = list(range(1,200,10))\n",
        "for i in K:\n",
        "    neigh = KNeighborsClassifier(n_neighbors=i, algorithm='kd_tree')\n",
        "    neigh.fit(A_train_tfidf.todense(), B_train)\n",
        "    # roc_auc_score(y_true, y_score) the 2nd parameter should be probability estimates of the positive class\n",
        "    # not the predicted outputs\n",
        "    B_train_pred =  neigh.predict_proba(A_train_tfidf.todense())[:,1]\n",
        "    B_cv_pred =  neigh.predict_proba(A_cv_tfidf.todense())[:,1]\n",
        "    \n",
        "    train_auc.append(roc_auc_score(B_train,B_train_pred))\n",
        "    cv_auc.append(roc_auc_score(B_cv, B_cv_pred))\n",
        "\n",
        "plt.plot(K, train_auc, label='Train AUC')\n",
        "plt.scatter(K, train_auc, label='Train AUC')\n",
        "plt.plot(K, cv_auc, label='CV AUC')\n",
        "plt.scatter(K, cv_auc, label='CV AUC')\n",
        "plt.legend()\n",
        "plt.xlabel(\"K: hyperparameter\")\n",
        "plt.ylabel(\"AUC\")\n",
        "plt.title(\"ERROR PLOTS\")\n",
        "plt.show()"
      ],
      "execution_count": 0,
      "outputs": [
        {
          "output_type": "display_data",
          "data": {
            "image/png": "[encoded data removed]",
            "text/plain": [
              "<Figure size 432x288 with 1 Axes>"
            ]
          },
          "metadata": {
            "tags": []
          }
        }
      ]
    },
    {
      "cell_type": "code",
      "metadata": {
        "id": "7AFIlp9Oy6ON",
        "colab_type": "code",
        "outputId": "7a7c937c-9d56-4040-e3ab-802e0139aa8a",
        "colab": {
          "base_uri": "https://localhost:8080/",
          "height": 33
        }
      },
      "source": [
        "from sklearn.metrics import accuracy_score\n",
        "neighbors = list(range(109,125,2))\n",
        "cv_score = []\n",
        "for k in tqdm(neighbors):\n",
        "    knn = KNeighborsClassifier(n_neighbors=k, algorithm='kd_tree')\n",
        "    scores = cross_val_score(knn, A_train_tfidf.todense(), B_train, cv=3, scoring='accuracy')\n",
        "    cv_score.append(scores.mean())"
      ],
      "execution_count": 0,
      "outputs": [
        {
          "output_type": "stream",
          "text": [
            "100%|██████████| 8/8 [01:04<00:00,  8.05s/it]\n"
          ],
          "name": "stderr"
        }
      ]
    },
    {
      "cell_type": "code",
      "metadata": {
        "id": "FUoRzmsIy8jx",
        "colab_type": "code",
        "outputId": "5c589876-7246-45f4-814b-6f311a7f8633",
        "colab": {
          "base_uri": "https://localhost:8080/",
          "height": 378
        }
      },
      "source": [
        "MSE = [1 - x for x in cv_score]\n",
        "optimal_k6 = neighbors[MSE.index(min(MSE))]\n",
        "print(\"_\" * 101)\n",
        "print(\"Optimal number of neighbors: \", optimal_k6)\n",
        "print(\"_\" * 101)\n",
        "print(\"Missclassification error for each k values: \", np.round(MSE, 3))\n",
        "print(\"_\" * 101)\n",
        "\n",
        "plt.plot(neighbors, MSE)\n",
        "plt.title(\"Number of neighbors and error\")\n",
        "plt.xlabel(\"Number of neighbors\")\n",
        "plt.ylabel(\"Missclassification error\")\n",
        "plt.show()"
      ],
      "execution_count": 0,
      "outputs": [
        {
          "output_type": "stream",
          "text": [
            "_____________________________________________________________________________________________________\n",
            "Optimal number of neighbors:  119\n",
            "_____________________________________________________________________________________________________\n",
            "Missclassification error for each k values:  [0.241 0.239 0.236 0.234 0.229 0.228 0.236 0.231]\n",
            "_____________________________________________________________________________________________________\n"
          ],
          "name": "stdout"
        },
        {
          "output_type": "display_data",
          "data": {
            "image/png": "[encoded data removed]",
            "text/plain": [
              "<Figure size 432x288 with 1 Axes>"
            ]
          },
          "metadata": {
            "tags": []
          }
        }
      ]
    },
    {
      "cell_type": "code",
      "metadata": {
        "id": "QZOYqNgVy_rE",
        "colab_type": "code",
        "colab": {}
      },
      "source": [
        "optimal_model = KNeighborsClassifier(n_neighbors=optimal_k6, algorithm='kd_tree')\n",
        "optimal_model.fit(A_train_tfidf.todense(), B_train)\n",
        "prediction = optimal_model.predict(A_test_tfidf.todense())"
      ],
      "execution_count": 0,
      "outputs": []
    },
    {
      "cell_type": "code",
      "metadata": {
        "id": "YcVfMFwnzCBq",
        "colab_type": "code",
        "outputId": "8cadd627-1d95-479d-dcf0-ba9c96cdae1e",
        "colab": {
          "base_uri": "https://localhost:8080/",
          "height": 294
        }
      },
      "source": [
        "train_fpr, train_tpr, thresholds = roc_curve(B_train, optimal_model.predict_proba(A_train_tfidf.todense())[:,1])\n",
        "test_fpr, test_tpr, thresholds = roc_curve(B_test, optimal_model.predict_proba(A_test_tfidf.todense())[:,1])\n",
        "AUC6=str(auc(test_fpr, test_tpr))\n",
        "plt.plot(train_fpr, train_tpr, label=\"train AUC =\"+str(auc(train_fpr, train_tpr)))\n",
        "plt.plot(test_fpr, test_tpr, label=\"test AUC =\"+str(auc(test_fpr, test_tpr)))\n",
        "plt.legend()\n",
        "plt.xlabel(\"K: hyperparameter\")\n",
        "plt.ylabel(\"AUC\")\n",
        "plt.title(\"ERROR PLOTS\")\n",
        "plt.show()"
      ],
      "execution_count": 0,
      "outputs": [
        {
          "output_type": "display_data",
          "data": {
            "image/png": "[encoded data removed]",
            "text/plain": [
              "<Figure size 432x288 with 1 Axes>"
            ]
          },
          "metadata": {
            "tags": []
          }
        }
      ]
    },
    {
      "cell_type": "code",
      "metadata": {
        "id": "CCcQIBPqzEa2",
        "colab_type": "code",
        "outputId": "e54ce520-43f3-4cee-dffd-e746cfe60084",
        "colab": {
          "base_uri": "https://localhost:8080/",
          "height": 117
        }
      },
      "source": [
        "training_accuracy = optimal_model.score(A_train_tfidf.todense(), B_train)\n",
        "training_error = 1 - training_accuracy\n",
        "test_accuracy = accuracy_score(B_test, prediction)\n",
        "test_error = 1 - test_accuracy\n",
        "\n",
        "\n",
        "print(\"_\" * 101)\n",
        "print(\"Training Accuracy: \", training_accuracy)\n",
        "print(\"Train Error: \", training_error)\n",
        "print(\"Test Accuracy: \", test_accuracy)\n",
        "print(\"Test Error: \", test_error)\n",
        "print(\"_\" * 101)"
      ],
      "execution_count": 0,
      "outputs": [
        {
          "output_type": "stream",
          "text": [
            "_____________________________________________________________________________________________________\n",
            "Training Accuracy:  0.785\n",
            "Train Error:  0.21499999999999997\n",
            "Test Accuracy:  0.8175\n",
            "Test Error:  0.1825\n",
            "_____________________________________________________________________________________________________\n"
          ],
          "name": "stdout"
        }
      ]
    },
    {
      "cell_type": "code",
      "metadata": {
        "id": "qOpliW-NzHFK",
        "colab_type": "code",
        "outputId": "19ba942c-daab-49fe-9af3-84f3db146a63",
        "colab": {
          "base_uri": "https://localhost:8080/",
          "height": 311
        }
      },
      "source": [
        "import seaborn as sb\n",
        "conf_matrix = confusion_matrix(B_test, optimal_model.predict(A_test_tfidf.todense()))\n",
        "class_label = [0, 1]\n",
        "df_conf_matrix = pd.DataFrame(\n",
        "    conf_matrix, index=class_label, columns=class_label)\n",
        "sb.heatmap(df_conf_matrix, annot=True, fmt='d')\n",
        "plt.title(\"Confusion Matrix\")\n",
        "plt.xlabel(\"Predicted\")\n",
        "plt.ylabel(\"Actual\")\n",
        "plt.show()\n",
        "print(\"_\" * 101)"
      ],
      "execution_count": 0,
      "outputs": [
        {
          "output_type": "display_data",
          "data": {
            "image/png": "[encoded data removed]",
            "text/plain": [
              "<Figure size 432x288 with 2 Axes>"
            ]
          },
          "metadata": {
            "tags": []
          }
        },
        {
          "output_type": "stream",
          "text": [
            "_____________________________________________________________________________________________________\n"
          ],
          "name": "stdout"
        }
      ]
    },
    {
      "cell_type": "code",
      "metadata": {
        "id": "1N6Awv7tzJpf",
        "colab_type": "code",
        "outputId": "0480d1a7-e396-4fc7-83c6-238155753177",
        "colab": {
          "base_uri": "https://localhost:8080/",
          "height": 167
        }
      },
      "source": [
        "from sklearn.metrics import classification_report\n",
        "print(classification_report(B_test, prediction))"
      ],
      "execution_count": 0,
      "outputs": [
        {
          "output_type": "stream",
          "text": [
            "              precision    recall  f1-score   support\n",
            "\n",
            "           0       0.82      0.79      0.81       193\n",
            "           1       0.81      0.84      0.83       207\n",
            "\n",
            "    accuracy                           0.82       400\n",
            "   macro avg       0.82      0.82      0.82       400\n",
            "weighted avg       0.82      0.82      0.82       400\n",
            "\n"
          ],
          "name": "stdout"
        }
      ]
    },
    {
      "cell_type": "markdown",
      "metadata": {
        "id": "IwNJSKyJWsul",
        "colab_type": "text"
      },
      "source": [
        "### [5.2.3] Applying KNN kd-tree on AVG W2V,<font color='red'> SET 3</font>"
      ]
    },
    {
      "cell_type": "code",
      "metadata": {
        "id": "bzV5YtlbWsul",
        "colab_type": "code",
        "outputId": "cf217d11-c876-4c2b-f88c-c28d74e2fcee",
        "colab": {
          "base_uri": "https://localhost:8080/",
          "height": 70
        }
      },
      "source": [
        "i=0\n",
        "list_of_sentance_train=[]\n",
        "for sentance in X_train:\n",
        "    list_of_sentance_train.append(sentance.split())\n",
        "\n",
        "# this line of code trains your w2v model on the give list of sentances\n",
        "w2v_model=Word2Vec(list_of_sentance_train,min_count=5,size=50, workers=4)\n",
        "\n",
        "w2v_words = list(w2v_model.wv.vocab)\n",
        "print(\"number of words that occured minimum 5 times \",len(w2v_words))\n",
        "print(\"sample words \", w2v_words[0:50])"
      ],
      "execution_count": 0,
      "outputs": [
        {
          "output_type": "stream",
          "text": [
            "number of words that occured minimum 5 times  4991\n",
            "sample words  ['ok', 'guess', 'bag', 'pound', 'salt', 'find', 'away', 'piece', 'taste', 'somewhat', 'decent', 'also', 'no', 'matter', 'set', 'microwave', 'little', 'burn', 'pieces', 'not', 'even', 'getting', 'whole', 'lot', 'one', 'actually', 'saves', 'basil', 'cilantro', 'extra', 'week', 'two', 'thats', 'enough', 'reason', 'buy', 'would', 'last', 'couple', 'days', 'toss', 'money', 'trip', 'market', 'stuff', 'list', 'ingredients', 'eat', 'anything', 'unless']\n"
          ],
          "name": "stdout"
        }
      ]
    },
    {
      "cell_type": "code",
      "metadata": {
        "id": "FUpNG4f10opo",
        "colab_type": "code",
        "outputId": "98852122-a8a4-40e2-9a3c-f4beec2ef8e1",
        "colab": {
          "base_uri": "https://localhost:8080/",
          "height": 201
        }
      },
      "source": [
        "sent_vectors_train = []; # the avg-w2v for each sentence/review is stored in this list\n",
        "for sent in tqdm(list_of_sentance_train): # for each review/sentence\n",
        "    sent_vec = np.zeros(50) # as word vectors are of zero length 50, you might need to change this to 300 if you use google's w2v\n",
        "    cnt_words =0; # num of words with a valid vector in the sentence/review\n",
        "    for word in sent: # for each word in a review/sentence\n",
        "        if word in w2v_words:\n",
        "            vec = w2v_model.wv[word]\n",
        "            sent_vec += vec\n",
        "            cnt_words += 1\n",
        "    if cnt_words != 0:\n",
        "        sent_vec /= cnt_words\n",
        "    sent_vectors_train.append(sent_vec)\n",
        "sent_vectors_train = np.array(sent_vectors_train)\n",
        "print(sent_vectors_train.shape)\n",
        "print(sent_vectors_train[0])"
      ],
      "execution_count": 0,
      "outputs": [
        {
          "output_type": "stream",
          "text": [
            "100%|██████████| 7651/7651 [00:06<00:00, 1271.79it/s]"
          ],
          "name": "stderr"
        },
        {
          "output_type": "stream",
          "text": [
            "(7651, 50)\n",
            "[ 0.55749662  0.40299206 -0.16792599 -0.62984893  0.84316368  0.57737975\n",
            " -0.53565875  0.40743601  0.63723999 -0.55679536 -0.37468497  0.21113551\n",
            "  0.20535012  0.19072537 -0.29175795  0.30440723  0.49796028  0.68230848\n",
            "  0.12142936 -0.37897957  0.35885432 -0.21535725 -0.06070714 -0.14142932\n",
            "  0.55763679  0.07306015  0.5944246   0.13881688  0.22327934  0.50195423\n",
            "  0.65701975  0.00372685 -0.08446666 -0.16995333 -0.00251605  0.04160312\n",
            " -0.61314034 -0.38962909  0.12770875 -0.69073283  0.46151887 -0.17511684\n",
            "  0.47548964  0.1799761   0.15651182 -0.0596825  -0.64487604  0.27439113\n",
            " -0.43942618  0.15119319]\n"
          ],
          "name": "stdout"
        },
        {
          "output_type": "stream",
          "text": [
            "\n"
          ],
          "name": "stderr"
        }
      ]
    },
    {
      "cell_type": "code",
      "metadata": {
        "id": "8mCgJ52H0sGG",
        "colab_type": "code",
        "outputId": "09996e0a-1dfb-42ab-8be8-b0d4e0ed2c7f",
        "colab": {
          "base_uri": "https://localhost:8080/",
          "height": 201
        }
      },
      "source": [
        "i=0\n",
        "list_of_sentance_cv=[]\n",
        "for sentance in X_cv:\n",
        "    list_of_sentance_cv.append(sentance.split())\n",
        "# average Word2Vec\n",
        "# compute average word2vec for each review.\n",
        "sent_vectors_cv = []; # the avg-w2v for each sentence/review is stored in this list\n",
        "for sent in tqdm(list_of_sentance_cv): # for each review/sentence\n",
        "    sent_vec = np.zeros(50) # as word vectors are of zero length 50, you might need to change this to 300 if you use google's w2v\n",
        "    cnt_words =0; # num of words with a valid vector in the sentence/review\n",
        "    for word in sent: # for each word in a review/sentence\n",
        "        if word in w2v_words:\n",
        "            vec = w2v_model.wv[word]\n",
        "            sent_vec += vec\n",
        "            cnt_words += 1\n",
        "    if cnt_words != 0:\n",
        "        sent_vec /= cnt_words\n",
        "    sent_vectors_cv.append(sent_vec)\n",
        "sent_vectors_cv = np.array(sent_vectors_cv)\n",
        "print(sent_vectors_cv.shape)\n",
        "print(sent_vectors_cv[0])"
      ],
      "execution_count": 0,
      "outputs": [
        {
          "output_type": "stream",
          "text": [
            "100%|██████████| 1913/1913 [00:01<00:00, 1191.80it/s]"
          ],
          "name": "stderr"
        },
        {
          "output_type": "stream",
          "text": [
            "(1913, 50)\n",
            "[ 0.24561684  0.41333252 -0.12944511 -0.52879344  0.78411597  0.34927873\n",
            " -0.47129608  0.34452876  0.58771408 -0.82846326 -0.41844683  0.1026214\n",
            " -0.07977498  0.17692381 -0.21673     0.20233962  0.35756979  0.57754197\n",
            "  0.22323643 -0.41527289  0.38153869 -0.20052586 -0.07924125  0.07680494\n",
            "  0.45361515  0.08292547  0.45311212  0.23820607  0.13204097  0.35713661\n",
            "  0.6189046   0.02055765 -0.01850531 -0.15912046 -0.05363013  0.05744211\n",
            " -0.47895778 -0.55910773  0.0096994  -0.73380325  0.27754957 -0.17567971\n",
            "  0.54969352  0.17492264  0.07725043 -0.14654981 -0.60422044  0.26861482\n",
            " -0.2966177   0.16070025]\n"
          ],
          "name": "stdout"
        },
        {
          "output_type": "stream",
          "text": [
            "\n"
          ],
          "name": "stderr"
        }
      ]
    },
    {
      "cell_type": "code",
      "metadata": {
        "id": "Ag6yxgbw0u6y",
        "colab_type": "code",
        "outputId": "d357515b-42bd-4cc4-85d4-788da7faa05e",
        "colab": {
          "base_uri": "https://localhost:8080/",
          "height": 201
        }
      },
      "source": [
        "i=0\n",
        "list_of_sentance_test=[]\n",
        "for sentance in X_test:\n",
        "    list_of_sentance_test.append(sentance.split())\n",
        "# average Word2Vec\n",
        "# compute average word2vec for each review.\n",
        "sent_vectors_test = []; # the avg-w2v for each sentence/review is stored in this list\n",
        "for sent in tqdm(list_of_sentance_test): # for each review/sentence\n",
        "    sent_vec = np.zeros(50) # as word vectors are of zero length 50, you might need to change this to 300 if you use google's w2v\n",
        "    cnt_words =0; # num of words with a valid vector in the sentence/review\n",
        "    for word in sent: # for each word in a review/sentence\n",
        "        if word in w2v_words:\n",
        "            vec = w2v_model.wv[word]\n",
        "            sent_vec += vec\n",
        "            cnt_words += 1\n",
        "    if cnt_words != 0:\n",
        "        sent_vec /= cnt_words\n",
        "    sent_vectors_test.append(sent_vec)\n",
        "sent_vectors_test = np.array(sent_vectors_test)\n",
        "print(sent_vectors_test.shape)\n",
        "print(sent_vectors_test[0])"
      ],
      "execution_count": 0,
      "outputs": [
        {
          "output_type": "stream",
          "text": [
            "100%|██████████| 1913/1913 [00:01<00:00, 1213.40it/s]"
          ],
          "name": "stderr"
        },
        {
          "output_type": "stream",
          "text": [
            "(1913, 50)\n",
            "[ 0.24561684  0.41333252 -0.12944511 -0.52879344  0.78411597  0.34927873\n",
            " -0.47129608  0.34452876  0.58771408 -0.82846326 -0.41844683  0.1026214\n",
            " -0.07977498  0.17692381 -0.21673     0.20233962  0.35756979  0.57754197\n",
            "  0.22323643 -0.41527289  0.38153869 -0.20052586 -0.07924125  0.07680494\n",
            "  0.45361515  0.08292547  0.45311212  0.23820607  0.13204097  0.35713661\n",
            "  0.6189046   0.02055765 -0.01850531 -0.15912046 -0.05363013  0.05744211\n",
            " -0.47895778 -0.55910773  0.0096994  -0.73380325  0.27754957 -0.17567971\n",
            "  0.54969352  0.17492264  0.07725043 -0.14654981 -0.60422044  0.26861482\n",
            " -0.2966177   0.16070025]\n"
          ],
          "name": "stdout"
        },
        {
          "output_type": "stream",
          "text": [
            "\n"
          ],
          "name": "stderr"
        }
      ]
    },
    {
      "cell_type": "code",
      "metadata": {
        "id": "ZDwvggFV0xl8",
        "colab_type": "code",
        "outputId": "0ed47722-f5a1-4ff1-c1d5-6f5e85a22ae9",
        "colab": {
          "base_uri": "https://localhost:8080/",
          "height": 311
        }
      },
      "source": [
        "train_auc = []\n",
        "cv_auc = []\n",
        "K = list(range(1,200,10))\n",
        "for i in tqdm(K):\n",
        "    neigh = KNeighborsClassifier(n_neighbors=i, algorithm='kd_tree')\n",
        "    neigh.fit(sent_vectors_train, Y_train)\n",
        "    # roc_auc_score(y_true, y_score) the 2nd parameter should be probability estimates of the positive class\n",
        "    # not the predicted outputs\n",
        "    Y_train_pred =  neigh.predict_proba(sent_vectors_train)[:,1]\n",
        "    Y_cv_pred =  neigh.predict_proba(sent_vectors_cv)[:,1]\n",
        "    \n",
        "    train_auc.append(roc_auc_score(Y_train,Y_train_pred))\n",
        "    cv_auc.append(roc_auc_score(Y_cv, Y_cv_pred))\n",
        "\n",
        "plt.plot(K, train_auc, label='Train AUC')\n",
        "plt.scatter(K, train_auc, label='Train AUC')\n",
        "plt.plot(K, cv_auc, label='CV AUC')\n",
        "plt.scatter(K, cv_auc, label='CV AUC')\n",
        "plt.legend()\n",
        "plt.xlabel(\"K: hyperparameter\")\n",
        "plt.ylabel(\"AUC\")\n",
        "plt.title(\"ERROR PLOTS\")\n",
        "plt.show()"
      ],
      "execution_count": 0,
      "outputs": [
        {
          "output_type": "stream",
          "text": [
            "100%|██████████| 20/20 [01:14<00:00,  4.51s/it]\n"
          ],
          "name": "stderr"
        },
        {
          "output_type": "display_data",
          "data": {
            "image/png": "[encoded data removed]",
            "text/plain": [
              "<Figure size 432x288 with 1 Axes>"
            ]
          },
          "metadata": {
            "tags": []
          }
        }
      ]
    },
    {
      "cell_type": "code",
      "metadata": {
        "id": "nmfJasfL00wI",
        "colab_type": "code",
        "outputId": "f978cecd-fdba-4a98-a0bc-9af058ae9690",
        "colab": {
          "base_uri": "https://localhost:8080/",
          "height": 33
        }
      },
      "source": [
        "neighbors = list(range(9,35,2))\n",
        "cv_score = []\n",
        "for k in tqdm(neighbors):\n",
        "    knn = KNeighborsClassifier(n_neighbors=k, algorithm='kd_tree')\n",
        "    scores = cross_val_score(knn, sent_vectors_train, Y_train, cv=10, scoring='f1')\n",
        "    cv_score.append(scores.mean())  "
      ],
      "execution_count": 0,
      "outputs": [
        {
          "output_type": "stream",
          "text": [
            "100%|██████████| 13/13 [00:31<00:00,  2.56s/it]\n"
          ],
          "name": "stderr"
        }
      ]
    },
    {
      "cell_type": "code",
      "metadata": {
        "id": "5ygLdY0C03JG",
        "colab_type": "code",
        "outputId": "07c36e27-a7ba-41e9-b012-64a4834cffdb",
        "colab": {
          "base_uri": "https://localhost:8080/",
          "height": 395
        }
      },
      "source": [
        "MSE = [1 - x for x in cv_score]\n",
        "optimal_k7 = neighbors[MSE.index(min(MSE))]\n",
        "print(\"_\" * 101)\n",
        "print(\"Optimal number of neighbors: \", optimal_k7)\n",
        "print(\"_\" * 101)\n",
        "print(\"Missclassification error for each k values: \", np.round(MSE, 3))\n",
        "print(\"_\" * 101)\n",
        "\n",
        "plt.plot(neighbors, MSE)\n",
        "plt.title(\"Number of neighbors and error\")\n",
        "plt.xlabel(\"Number of neighbors\")\n",
        "plt.ylabel(\"Missclassification error\")\n",
        "plt.show()"
      ],
      "execution_count": 0,
      "outputs": [
        {
          "output_type": "stream",
          "text": [
            "_____________________________________________________________________________________________________\n",
            "Optimal number of neighbors:  33\n",
            "_____________________________________________________________________________________________________\n",
            "Missclassification error for each k values:  [0.097 0.096 0.094 0.094 0.093 0.094 0.093 0.093 0.093 0.092 0.092 0.092\n",
            " 0.091]\n",
            "_____________________________________________________________________________________________________\n"
          ],
          "name": "stdout"
        },
        {
          "output_type": "display_data",
          "data": {
            "image/png": "[encoded data removed]",
            "text/plain": [
              "<Figure size 432x288 with 1 Axes>"
            ]
          },
          "metadata": {
            "tags": []
          }
        }
      ]
    },
    {
      "cell_type": "code",
      "metadata": {
        "id": "6mNYZEj307st",
        "colab_type": "code",
        "colab": {}
      },
      "source": [
        "optimal_model = KNeighborsClassifier(n_neighbors=optimal_k7, algorithm='kd_tree')\n",
        "optimal_model.fit(sent_vectors_train, Y_train)\n",
        "prediction = optimal_model.predict(sent_vectors_test)"
      ],
      "execution_count": 0,
      "outputs": []
    },
    {
      "cell_type": "code",
      "metadata": {
        "id": "G4qC6J0l0_8P",
        "colab_type": "code",
        "outputId": "f2b07b92-aed3-4458-82de-7c641bf60e5c",
        "colab": {
          "base_uri": "https://localhost:8080/",
          "height": 294
        }
      },
      "source": [
        "train_fpr, train_tpr, thresholds = roc_curve(Y_train, neigh.predict_proba(sent_vectors_train)[:,1])\n",
        "test_fpr, test_tpr, thresholds = roc_curve(Y_test, neigh.predict_proba(sent_vectors_test)[:,1])\n",
        "AUC7=str(auc(test_fpr, test_tpr))\n",
        "plt.plot(train_fpr, train_tpr, label=\"train AUC =\"+str(auc(train_fpr, train_tpr)))\n",
        "plt.plot(test_fpr, test_tpr, label=\"test AUC =\"+str(auc(test_fpr, test_tpr)))\n",
        "plt.legend()\n",
        "plt.xlabel(\"K: hyperparameter\")\n",
        "plt.ylabel(\"AUC\")\n",
        "plt.title(\"ERROR PLOTS\")\n",
        "plt.show()"
      ],
      "execution_count": 0,
      "outputs": [
        {
          "output_type": "display_data",
          "data": {
            "image/png": "[encoded data removed]",
            "text/plain": [
              "<Figure size 432x288 with 1 Axes>"
            ]
          },
          "metadata": {
            "tags": []
          }
        }
      ]
    },
    {
      "cell_type": "code",
      "metadata": {
        "id": "zyR0yaa81CuR",
        "colab_type": "code",
        "outputId": "03e92779-e141-4041-b693-02b5de7601b8",
        "colab": {
          "base_uri": "https://localhost:8080/",
          "height": 117
        }
      },
      "source": [
        "training_accuracy = optimal_model.score(sent_vectors_train, Y_train)\n",
        "training_error = 1 - training_accuracy\n",
        "test_accuracy = accuracy_score(Y_test, prediction)\n",
        "test_error = 1 - test_accuracy\n",
        "\n",
        "\n",
        "print(\"_\" * 101)\n",
        "print(\"Training Accuracy: \", training_accuracy)\n",
        "print(\"Train Error: \", training_error)\n",
        "print(\"Test Accuracy: \", test_accuracy)\n",
        "print(\"Test Error: \", test_error)\n",
        "print(\"_\" * 101)"
      ],
      "execution_count": 0,
      "outputs": [
        {
          "output_type": "stream",
          "text": [
            "_____________________________________________________________________________________________________\n",
            "Training Accuracy:  0.8344007319304666\n",
            "Train Error:  0.1655992680695334\n",
            "Test Accuracy:  0.8410872974385781\n",
            "Test Error:  0.15891270256142187\n",
            "_____________________________________________________________________________________________________\n"
          ],
          "name": "stdout"
        }
      ]
    },
    {
      "cell_type": "code",
      "metadata": {
        "id": "9PZs6pAE1FMQ",
        "colab_type": "code",
        "outputId": "85e3581f-15c4-4e0e-8528-a93ee16e5813",
        "colab": {
          "base_uri": "https://localhost:8080/",
          "height": 311
        }
      },
      "source": [
        "import seaborn as sb\n",
        "conf_matrix = confusion_matrix(Y_test, optimal_model.predict(sent_vectors_test))\n",
        "class_label = [0, 1]\n",
        "df_conf_matrix = pd.DataFrame(\n",
        "    conf_matrix, index=class_label, columns=class_label)\n",
        "sb.heatmap(df_conf_matrix, annot=True, fmt='d')\n",
        "plt.title(\"Confusion Matrix\")\n",
        "plt.xlabel(\"Predicted\")\n",
        "plt.ylabel(\"Actual\")\n",
        "plt.show()\n",
        "print(\"_\" * 101)"
      ],
      "execution_count": 0,
      "outputs": [
        {
          "output_type": "display_data",
          "data": {
            "image/png": "[encoded data removed]",
            "text/plain": [
              "<Figure size 432x288 with 2 Axes>"
            ]
          },
          "metadata": {
            "tags": []
          }
        },
        {
          "output_type": "stream",
          "text": [
            "_____________________________________________________________________________________________________\n"
          ],
          "name": "stdout"
        }
      ]
    },
    {
      "cell_type": "code",
      "metadata": {
        "id": "M_tZp2jS1H8v",
        "colab_type": "code",
        "outputId": "141121a6-1dd4-41ac-86c2-e9b2bb6e909c",
        "colab": {
          "base_uri": "https://localhost:8080/",
          "height": 167
        }
      },
      "source": [
        "from sklearn.metrics import classification_report\n",
        "print(classification_report(Y_test, prediction))"
      ],
      "execution_count": 0,
      "outputs": [
        {
          "output_type": "stream",
          "text": [
            "              precision    recall  f1-score   support\n",
            "\n",
            "           0       0.45      0.02      0.03       303\n",
            "           1       0.84      1.00      0.91      1610\n",
            "\n",
            "    accuracy                           0.84      1913\n",
            "   macro avg       0.65      0.51      0.47      1913\n",
            "weighted avg       0.78      0.84      0.77      1913\n",
            "\n"
          ],
          "name": "stdout"
        }
      ]
    },
    {
      "cell_type": "markdown",
      "metadata": {
        "id": "uILeIV40Wsun",
        "colab_type": "text"
      },
      "source": [
        "### [5.2.4] Applying KNN kd-tree on TFIDF W2V,<font color='red'> SET 4</font>"
      ]
    },
    {
      "cell_type": "code",
      "metadata": {
        "id": "lMSg7IO0Wsun",
        "colab_type": "code",
        "colab": {}
      },
      "source": [
        "model = TfidfVectorizer()\n",
        "tf_idf_matrix = model.fit(X_train)\n",
        "# we are converting a dictionary with word as a key, and the idf as a value\n",
        "dictionary = dict(zip(model.get_feature_names(), list(model.idf_)))"
      ],
      "execution_count": 0,
      "outputs": []
    },
    {
      "cell_type": "code",
      "metadata": {
        "id": "YzhJGRRN1PgT",
        "colab_type": "code",
        "outputId": "aaef30eb-f640-400a-faff-b399cf4294a4",
        "colab": {
          "base_uri": "https://localhost:8080/",
          "height": 33
        }
      },
      "source": [
        "i=0\n",
        "list_of_sentance_train=[]\n",
        "for sentance in X_train:\n",
        "    list_of_sentance_train.append(sentance.split())\n",
        "tfidf_feat = tf_idf_vect.get_feature_names() # tfidf words/col-names\n",
        "# final_tf_idf is the sparse matrix with row= sentence, col=word and cell_val = tfidf\n",
        "\n",
        "tfidf_sent_vectors_train = []; # the tfidf-w2v for each sentence/review is stored in this list\n",
        "row=0;\n",
        "for sent in tqdm(list_of_sentance_train): # for each review/sentence \n",
        "    sent_vec = np.zeros(50) # as word vectors are of zero length\n",
        "    weight_sum =0; # num of words with a valid vector in the sentence/review\n",
        "    for word in sent: # for each word in a review/sentence\n",
        "        if word in w2v_words and word in tfidf_feat:\n",
        "            vec = w2v_model.wv[word]\n",
        "#             tf_idf = tf_idf_matrix[row, tfidf_feat.index(word)]\n",
        "            # to reduce the computation we are \n",
        "            # dictionary[word] = idf value of word in whole courpus\n",
        "            # sent.count(word) = tf valeus of word in this review\n",
        "            tf_idf = dictionary[word]*(sent.count(word)/len(sent))\n",
        "            sent_vec += (vec * tf_idf)\n",
        "            weight_sum += tf_idf\n",
        "    if weight_sum != 0:\n",
        "        sent_vec /= weight_sum\n",
        "    tfidf_sent_vectors_train.append(sent_vec)\n",
        "    row += 1"
      ],
      "execution_count": 0,
      "outputs": [
        {
          "output_type": "stream",
          "text": [
            "100%|██████████| 7651/7651 [00:16<00:00, 471.77it/s]\n"
          ],
          "name": "stderr"
        }
      ]
    },
    {
      "cell_type": "code",
      "metadata": {
        "id": "x5GJgCVj1S1Z",
        "colab_type": "code",
        "outputId": "ed23a240-4a7f-4b7d-8b30-7d28e0d7e71e",
        "colab": {
          "base_uri": "https://localhost:8080/",
          "height": 33
        }
      },
      "source": [
        "i=0\n",
        "list_of_sentance_cv=[]\n",
        "for sentance in X_cv:\n",
        "    list_of_sentance_cv.append(sentance.split())\n",
        "tfidf_feat = tf_idf_vect.get_feature_names() # tfidf words/col-names\n",
        "# final_tf_idf is the sparse matrix with row= sentence, col=word and cell_val = tfidf\n",
        "\n",
        "tfidf_sent_vectors_cv = []; # the tfidf-w2v for each sentence/review is stored in this list\n",
        "row=0;\n",
        "for sent in tqdm(list_of_sentance_cv): # for each review/sentence \n",
        "    sent_vec = np.zeros(50) # as word vectors are of zero length\n",
        "    weight_sum =0; # num of words with a valid vector in the sentence/review\n",
        "    for word in sent: # for each word in a review/sentence\n",
        "        if word in w2v_words and word in tfidf_feat:\n",
        "            vec = w2v_model.wv[word]\n",
        "#             tf_idf = tf_idf_matrix[row, tfidf_feat.index(word)]\n",
        "            # to reduce the computation we are \n",
        "            # dictionary[word] = idf value of word in whole courpus\n",
        "            # sent.count(word) = tf valeus of word in this review\n",
        "            tf_idf = dictionary[word]*(sent.count(word)/len(sent))\n",
        "            sent_vec += (vec * tf_idf)\n",
        "            weight_sum += tf_idf\n",
        "    if weight_sum != 0:\n",
        "        sent_vec /= weight_sum\n",
        "    tfidf_sent_vectors_cv.append(sent_vec)\n",
        "    row += 1"
      ],
      "execution_count": 0,
      "outputs": [
        {
          "output_type": "stream",
          "text": [
            "100%|██████████| 1913/1913 [00:04<00:00, 472.08it/s]\n"
          ],
          "name": "stderr"
        }
      ]
    },
    {
      "cell_type": "code",
      "metadata": {
        "id": "GyCac_z51V4P",
        "colab_type": "code",
        "outputId": "35a22be4-326f-4123-ae0c-b6de29112c4d",
        "colab": {
          "base_uri": "https://localhost:8080/",
          "height": 33
        }
      },
      "source": [
        "i=0\n",
        "list_of_sentance_test=[]\n",
        "for sentance in X_test:\n",
        "    list_of_sentance_test.append(sentance.split())\n",
        "tfidf_feat = tf_idf_vect.get_feature_names() # tfidf words/col-names\n",
        "# final_tf_idf is the sparse matrix with row= sentence, col=word and cell_val = tfidf\n",
        "\n",
        "tfidf_sent_vectors_test = []; # the tfidf-w2v for each sentence/review is stored in this list\n",
        "row=0;\n",
        "for sent in tqdm(list_of_sentance_test): # for each review/sentence \n",
        "    sent_vec = np.zeros(50) # as word vectors are of zero length\n",
        "    weight_sum =0; # num of words with a valid vector in the sentence/review\n",
        "    for word in sent: # for each word in a review/sentence\n",
        "        if word in w2v_words and word in tfidf_feat:\n",
        "            vec = w2v_model.wv[word]\n",
        "#             tf_idf = tf_idf_matrix[row, tfidf_feat.index(word)]\n",
        "            # to reduce the computation we are \n",
        "            # dictionary[word] = idf value of word in whole courpus\n",
        "            # sent.count(word) = tf valeus of word in this review\n",
        "            tf_idf = dictionary[word]*(sent.count(word)/len(sent))\n",
        "            sent_vec += (vec * tf_idf)\n",
        "            weight_sum += tf_idf\n",
        "    if weight_sum != 0:\n",
        "        sent_vec /= weight_sum\n",
        "    tfidf_sent_vectors_test.append(sent_vec)\n",
        "    row += 1"
      ],
      "execution_count": 0,
      "outputs": [
        {
          "output_type": "stream",
          "text": [
            "100%|██████████| 1913/1913 [00:04<00:00, 457.31it/s]\n"
          ],
          "name": "stderr"
        }
      ]
    },
    {
      "cell_type": "code",
      "metadata": {
        "id": "aeu8QL121Yrv",
        "colab_type": "code",
        "outputId": "92136d04-4815-4eb4-a7fe-a79488308c9b",
        "colab": {
          "base_uri": "https://localhost:8080/",
          "height": 311
        }
      },
      "source": [
        "train_auc = []\n",
        "cv_auc = []\n",
        "K = list(range(1,200,10))\n",
        "for i in tqdm(K):\n",
        "    neigh = KNeighborsClassifier(n_neighbors=i, algorithm='kd_tree')\n",
        "    neigh.fit(sent_vectors_train, Y_train)\n",
        "    # roc_auc_score(y_true, y_score) the 2nd parameter should be probability estimates of the positive class\n",
        "    # not the predicted outputs\n",
        "    Y_train_pred =  neigh.predict_proba(sent_vectors_train)[:,1]\n",
        "    Y_cv_pred =  neigh.predict_proba(sent_vectors_cv)[:,1]\n",
        "    \n",
        "    train_auc.append(roc_auc_score(Y_train,Y_train_pred))\n",
        "    cv_auc.append(roc_auc_score(Y_cv, Y_cv_pred))\n",
        "\n",
        "plt.plot(K, train_auc, label='Train AUC')\n",
        "plt.scatter(K, train_auc, label='Train AUC')\n",
        "plt.plot(K, cv_auc, label='CV AUC')\n",
        "plt.scatter(K, cv_auc, label='CV AUC')\n",
        "plt.legend()\n",
        "plt.xlabel(\"K: hyperparameter\")\n",
        "plt.ylabel(\"AUC\")\n",
        "plt.title(\"ERROR PLOTS\")\n",
        "plt.show()"
      ],
      "execution_count": 0,
      "outputs": [
        {
          "output_type": "stream",
          "text": [
            "100%|██████████| 20/20 [01:14<00:00,  4.52s/it]\n"
          ],
          "name": "stderr"
        },
        {
          "output_type": "display_data",
          "data": {
            "image/png": "[encoded data removed]",
            "text/plain": [
              "<Figure size 432x288 with 1 Axes>"
            ]
          },
          "metadata": {
            "tags": []
          }
        }
      ]
    },
    {
      "cell_type": "code",
      "metadata": {
        "id": "q3TH5NJh1bST",
        "colab_type": "code",
        "outputId": "5d211d35-47ed-42dd-83c6-dc042e37a90b",
        "colab": {
          "base_uri": "https://localhost:8080/",
          "height": 33
        }
      },
      "source": [
        "from sklearn.model_selection import cross_val_score\n",
        "neighbors = list(range(13, 50, 2))\n",
        "cv_score = []\n",
        "for k in tqdm(neighbors):\n",
        "    knn = KNeighborsClassifier(n_neighbors=k, algorithm='kd_tree')\n",
        "    scores = cross_val_score(knn, tfidf_sent_vectors_train, Y_train, cv=10, scoring='accuracy')\n",
        "    cv_score.append(scores.mean()) "
      ],
      "execution_count": 0,
      "outputs": [
        {
          "output_type": "stream",
          "text": [
            "100%|██████████| 19/19 [00:44<00:00,  2.51s/it]\n"
          ],
          "name": "stderr"
        }
      ]
    },
    {
      "cell_type": "code",
      "metadata": {
        "id": "FjDBLVZK1dtZ",
        "colab_type": "code",
        "outputId": "d707d430-6bab-4622-f483-6904d85eff2e",
        "colab": {
          "base_uri": "https://localhost:8080/",
          "height": 395
        }
      },
      "source": [
        "MSE = [1 - x for x in cv_score]\n",
        "optimal_k8 = neighbors[MSE.index(min(MSE))]\n",
        "print(\"_\" * 101)\n",
        "print(\"Optimal number of neighbors: \", optimal_k8)\n",
        "print(\"_\" * 101)\n",
        "print(\"Missclassification error for each k values: \", np.round(MSE, 3))\n",
        "print(\"_\" * 101)\n",
        "\n",
        "plt.plot(neighbors, MSE)\n",
        "plt.title(\"Number of neighbors and error\")\n",
        "plt.xlabel(\"Number of neighbors\")\n",
        "plt.ylabel(\"Missclassification error\")\n",
        "plt.show()"
      ],
      "execution_count": 0,
      "outputs": [
        {
          "output_type": "stream",
          "text": [
            "_____________________________________________________________________________________________________\n",
            "Optimal number of neighbors:  39\n",
            "_____________________________________________________________________________________________________\n",
            "Missclassification error for each k values:  [0.175 0.172 0.173 0.172 0.172 0.172 0.171 0.171 0.172 0.173 0.172 0.171\n",
            " 0.17  0.17  0.17  0.17  0.171 0.17  0.17 ]\n",
            "_____________________________________________________________________________________________________\n"
          ],
          "name": "stdout"
        },
        {
          "output_type": "display_data",
          "data": {
            "image/png": "[encoded data removed]",
            "text/plain": [
              "<Figure size 432x288 with 1 Axes>"
            ]
          },
          "metadata": {
            "tags": []
          }
        }
      ]
    },
    {
      "cell_type": "code",
      "metadata": {
        "id": "0dzpMPbg1gYu",
        "colab_type": "code",
        "colab": {}
      },
      "source": [
        "optimal_model = KNeighborsClassifier(n_neighbors=optimal_k8, algorithm='kd_tree')\n",
        "optimal_model.fit(tfidf_sent_vectors_train, Y_train)\n",
        "prediction = optimal_model.predict(tfidf_sent_vectors_test)"
      ],
      "execution_count": 0,
      "outputs": []
    },
    {
      "cell_type": "code",
      "metadata": {
        "id": "dNuFZf2p1ivw",
        "colab_type": "code",
        "outputId": "fcfe3f10-850b-4bed-b450-ce7478389f90",
        "colab": {
          "base_uri": "https://localhost:8080/",
          "height": 294
        }
      },
      "source": [
        "train_fpr, train_tpr, thresholds = roc_curve(Y_train, neigh.predict_proba(tfidf_sent_vectors_train)[:,1])\n",
        "test_fpr, test_tpr, thresholds = roc_curve(Y_test, neigh.predict_proba(tfidf_sent_vectors_test)[:,1])\n",
        "AUC8=str(auc(test_fpr, test_tpr))\n",
        "plt.plot(train_fpr, train_tpr, label=\"train AUC =\"+str(auc(train_fpr, train_tpr)))\n",
        "plt.plot(test_fpr, test_tpr, label=\"test AUC =\"+str(auc(test_fpr, test_tpr)))\n",
        "plt.legend()\n",
        "plt.xlabel(\"K: hyperparameter\")\n",
        "plt.ylabel(\"AUC\")\n",
        "plt.title(\"ERROR PLOTS\")\n",
        "plt.show()"
      ],
      "execution_count": 0,
      "outputs": [
        {
          "output_type": "display_data",
          "data": {
            "image/png": "[encoded data removed]",
            "text/plain": [
              "<Figure size 432x288 with 1 Axes>"
            ]
          },
          "metadata": {
            "tags": []
          }
        }
      ]
    },
    {
      "cell_type": "code",
      "metadata": {
        "id": "nx5ejAdw1lYD",
        "colab_type": "code",
        "outputId": "8d895a73-f3d8-4eae-f816-995521ba30e4",
        "colab": {
          "base_uri": "https://localhost:8080/",
          "height": 117
        }
      },
      "source": [
        "training_accuracy = optimal_model.score(tfidf_sent_vectors_train, Y_train)\n",
        "training_error = 1 - training_accuracy\n",
        "test_accuracy = accuracy_score(Y_test, prediction)\n",
        "test_error = 1 - test_accuracy\n",
        "\n",
        "\n",
        "print(\"_\" * 101)\n",
        "print(\"Training Accuracy: \", training_accuracy)\n",
        "print(\"Train Error: \", training_error)\n",
        "print(\"Test Accuracy: \", test_accuracy)\n",
        "print(\"Test Error: \", test_error)\n",
        "print(\"_\" * 101)"
      ],
      "execution_count": 0,
      "outputs": [
        {
          "output_type": "stream",
          "text": [
            "_____________________________________________________________________________________________________\n",
            "Training Accuracy:  0.8329630113710627\n",
            "Train Error:  0.16703698862893734\n",
            "Test Accuracy:  0.8384736016727653\n",
            "Test Error:  0.1615263983272347\n",
            "_____________________________________________________________________________________________________\n"
          ],
          "name": "stdout"
        }
      ]
    },
    {
      "cell_type": "code",
      "metadata": {
        "id": "NzKGr4tk1oSt",
        "colab_type": "code",
        "outputId": "ec2a4045-6b9f-414f-872a-d898441e346b",
        "colab": {
          "base_uri": "https://localhost:8080/",
          "height": 311
        }
      },
      "source": [
        "import seaborn as sb\n",
        "conf_matrix = confusion_matrix(Y_test, optimal_model.predict(tfidf_sent_vectors_test))\n",
        "class_label = [0, 1]\n",
        "df_conf_matrix = pd.DataFrame(\n",
        "    conf_matrix, index=class_label, columns=class_label)\n",
        "sb.heatmap(df_conf_matrix, annot=True, fmt='d')\n",
        "plt.title(\"Confusion Matrix\")\n",
        "plt.xlabel(\"Predicted\")\n",
        "plt.ylabel(\"Actual\")\n",
        "plt.show()\n",
        "print(\"_\" * 101)"
      ],
      "execution_count": 0,
      "outputs": [
        {
          "output_type": "display_data",
          "data": {
            "image/png": "[encoded data removed]",
            "text/plain": [
              "<Figure size 432x288 with 2 Axes>"
            ]
          },
          "metadata": {
            "tags": []
          }
        },
        {
          "output_type": "stream",
          "text": [
            "_____________________________________________________________________________________________________\n"
          ],
          "name": "stdout"
        }
      ]
    },
    {
      "cell_type": "code",
      "metadata": {
        "id": "dv_9y00e1q_T",
        "colab_type": "code",
        "outputId": "a1ec28c3-776c-491f-ce74-e29f3a343fe6",
        "colab": {
          "base_uri": "https://localhost:8080/",
          "height": 167
        }
      },
      "source": [
        "from sklearn.metrics import classification_report\n",
        "print(classification_report(Y_test, prediction))"
      ],
      "execution_count": 0,
      "outputs": [
        {
          "output_type": "stream",
          "text": [
            "              precision    recall  f1-score   support\n",
            "\n",
            "           0       0.38      0.03      0.06       303\n",
            "           1       0.84      0.99      0.91      1610\n",
            "\n",
            "    accuracy                           0.84      1913\n",
            "   macro avg       0.61      0.51      0.48      1913\n",
            "weighted avg       0.77      0.84      0.78      1913\n",
            "\n"
          ],
          "name": "stdout"
        }
      ]
    },
    {
      "cell_type": "markdown",
      "metadata": {
        "id": "-yyh-oLkWsup",
        "colab_type": "text"
      },
      "source": [
        "# [6] Conclusions"
      ]
    },
    {
      "cell_type": "code",
      "metadata": {
        "id": "5VEEFpgHWsup",
        "colab_type": "code",
        "outputId": "0a38062f-6339-4256-822f-e8179ea1d2a7",
        "colab": {
          "base_uri": "https://localhost:8080/",
          "height": 217
        }
      },
      "source": [
        "from prettytable import PrettyTable\n",
        "comparison = PrettyTable()\n",
        "comparison.field_names = [\"Vectorizer\", \"Model\", \"Hyperparameter\", \"AUC\"]\n",
        "comparison.add_row([\"BOW\", 'brute', optimal_k1, np.round(float(AUC1),3)])\n",
        "comparison.add_row([\"TFIDF\", 'brute', optimal_k2, np.round(float(AUC2),3)])\n",
        "comparison.add_row([\"AVG W2V\", 'brute', optimal_k3, np.round(float(AUC3),3)])\n",
        "comparison.add_row([\"Weighted W2V\", 'brute', optimal_k4,np.round(float(AUC4),3)])\n",
        "comparison.add_row([\"BOW\", 'kd_tree', optimal_k5, np.round(float(AUC5),3)])\n",
        "comparison.add_row([\"TFIDF\", 'kd_tree', optimal_k6, np.round(float(AUC6),3)])\n",
        "comparison.add_row([\"AVG W2V\", 'kd_tree', optimal_k7, np.round(float(AUC7),3)])\n",
        "comparison.add_row([\"Weighted W2V\", 'kd_tree', optimal_k8, np.round(float(AUC8),3)])\n",
        "print(comparison)"
      ],
      "execution_count": 0,
      "outputs": [
        {
          "output_type": "stream",
          "text": [
            "+--------------+---------+----------------+-------+\n",
            "|  Vectorizer  |  Model  | Hyperparameter |  AUC  |\n",
            "+--------------+---------+----------------+-------+\n",
            "|     BOW      |  brute  |       80       | 0.741 |\n",
            "|    TFIDF     |  brute  |      151       | 0.879 |\n",
            "|   AVG W2V    |  brute  |       39       | 0.695 |\n",
            "| Weighted W2V |  brute  |       45       | 0.653 |\n",
            "|     BOW      | kd_tree |       55       | 0.785 |\n",
            "|    TFIDF     | kd_tree |      119       | 0.889 |\n",
            "|   AVG W2V    | kd_tree |       33       | 0.707 |\n",
            "| Weighted W2V | kd_tree |       39       | 0.637 |\n",
            "+--------------+---------+----------------+-------+\n"
          ],
          "name": "stdout"
        }
      ]
    }
  ]
}